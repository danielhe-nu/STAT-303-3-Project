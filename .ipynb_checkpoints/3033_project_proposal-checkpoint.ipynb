{
 "cells": [
  {
   "cell_type": "raw",
   "id": "33dd6c4c",
   "metadata": {},
   "source": [
    "---\n",
    "title: \"Project proposal\"\n",
    "format: \n",
    "  html:\n",
    "    toc: true\n",
    "    toc-title: Contents\n",
    "    code-fold: show\n",
    "    self-contained: true\n",
    "jupyter: python3\n",
    "---"
   ]
  },
  {
   "cell_type": "markdown",
   "id": "0116f49b",
   "metadata": {},
   "source": [
    "## Instructions {-}\n",
    "\n",
    "1. Please answer the following questions as part of your project proposal.\n",
    "\n",
    "2. Write your answers in the *Markdown* cells of the Jupyter notebook. You don't need to write any code, but if you want to, you may use the *Code* cells.\n",
    "\n",
    "3. Use [Quarto](https://quarto.org/docs/output-formats/html-basics.html) to print the *.ipynb* file as HTML. You will need to open the command prompt, navigate to the directory containing the file, and use the command: `quarto render filename.ipynb --to html`. Submit the HTML file.\n",
    "\n",
    "4. The project proposal is worth 8 points, and is due on **18th April 2023 at 11:59 pm**. \n",
    "\n",
    "5. You must make one submission as a group, and not individually.\n",
    "\n",
    "6. Maintaining a GitHub repository is optional, though encouraged for the project.\n",
    "\n",
    "7. Share the link of your project's GitHub repository [here](https://docs.google.com/spreadsheets/d/1khao3unpj_vsx4kOSg_Zzo77YK1UWL2w73Oa0aAirOo/edit#gid=0) (optional)."
   ]
  },
  {
   "cell_type": "markdown",
   "id": "fe7ea9bb",
   "metadata": {},
   "source": [
    "# 1) Team name\n",
    "Mention your team name.\n",
    "\n",
    "*(0 points)*"
   ]
  },
  {
   "cell_type": "markdown",
   "id": "37ae1f1d",
   "metadata": {},
   "source": [
    "<b>Zoom Zoomers</b>"
   ]
  },
  {
   "cell_type": "markdown",
   "id": "16fccc9b",
   "metadata": {},
   "source": [
    "# 2) Member names\n",
    "Mention the names of your team members.\n",
    "\n",
    "*(0 points)*"
   ]
  },
  {
   "cell_type": "markdown",
   "id": "af0120ac",
   "metadata": {},
   "source": [
    "<b>Daniel He, Sarah Hsu, Anika Kaura, Gemily Wang</b>"
   ]
  },
  {
   "cell_type": "markdown",
   "id": "220a6528",
   "metadata": {},
   "source": [
    "# 3) Link to the GitHub repository (optional)\n",
    "Share the link of the team's project repository on GitHub.\n",
    "\n",
    "Also, put the link of your project's GitHub repository [here](https://docs.google.com/spreadsheets/d/1khao3unpj_vsx4kOSg_Zzo77YK1UWL2w73Oa0aAirOo/edit#gid=0).\n",
    "\n",
    "We believe there is no harm in having other teams view your GitHub repository. However, if you don't want anyone to see your team's work, you may make the repository *Private* and add your instructor and graduate TA as *Colloborators* in it.\n",
    "\n",
    "*(0 points)*"
   ]
  },
  {
   "cell_type": "markdown",
   "id": "2e7b1dc6",
   "metadata": {},
   "source": [
    "<b> https://github.com/danielhe-nu/STAT-303-3-Project</b>\n",
    "\n",
    "<b> Our repository is Public, and was added to spreadsheet by Daniel He.</b>"
   ]
  },
  {
   "cell_type": "markdown",
   "id": "16c1a490",
   "metadata": {},
   "source": [
    "# 4) Topic\n",
    "Mention the topic of your course project.\n",
    "\n",
    "*(0 points)*"
   ]
  },
  {
   "cell_type": "markdown",
   "id": "e6409f02",
   "metadata": {},
   "source": [
    "<b> Online News Popularity in the form of shares.</b>"
   ]
  },
  {
   "cell_type": "markdown",
   "id": "9403cdfb",
   "metadata": {},
   "source": [
    "# 5) Problem statement\n",
    "\n",
    "*(4 points)*\n",
    "\n",
    "Explain the problem statement. The problem statement must include:\n",
    "\n",
    "## 5a) The problem"
   ]
  },
  {
   "cell_type": "markdown",
   "id": "5a8b3279",
   "metadata": {},
   "source": [
    "<b> Our aim is determine the relationship between descriptory data about online news articles and predict the popularity of articles based on predictors in the descriptory data. </b>"
   ]
  },
  {
   "cell_type": "markdown",
   "id": "9a0dee45",
   "metadata": {},
   "source": [
    "## 5b) Type of response\n",
    "Is it about predicting a continuous response or a binary response or a combination of both?"
   ]
  },
  {
   "cell_type": "markdown",
   "id": "fcf49daa",
   "metadata": {},
   "source": [
    "<b> We will be predicting a continuous response, as our project outcome should be predicted number of shares of online news articles. </b>"
   ]
  },
  {
   "cell_type": "markdown",
   "id": "2c8cb75b",
   "metadata": {},
   "source": [
    "## 5c) Performance metric\n",
    "How will you assess model accuracy?\n",
    "\n",
    "  - If it is a classification problem, then which measure(s) will you optimize for your model – precision, recall, false negative rate (FNR), accuracy, ROC-AUC etc., and why?\n",
    "  - If it is a regression problem, then which measure(s) will you optimize for your model – RMSE (Root mean squared error), MAE (mean absolute error), maximum absolute error etc., and why?"
   ]
  },
  {
   "cell_type": "markdown",
   "id": "2be0f90c",
   "metadata": {},
   "source": [
    "<b> Our project will be a regression problem, as our goal will be to predict the number of shares types of content may undergo. The measures we will use to optimize our model is RMSE because we want to minimize our total squared error, and because we want to minimize the consequences of over/underestimating popularity depend on how off we are. News articles can often suffer from inconsistencies between topics depending on the story itself (massive breaking news will get higher shares, no matter other characteristics), so a measure for model accuracy that penalises large errors will be more useful. </b>"
   ]
  },
  {
   "cell_type": "markdown",
   "id": "57701e9e",
   "metadata": {},
   "source": [
    "## 5d) Naive model accuracy\n",
    "What is the accuracy of the naive model (Standard deviation of response in case of continuous response / proportion of the majority class in case of classification model)"
   ]
  },
  {
   "cell_type": "markdown",
   "id": "aa6918a0",
   "metadata": {},
   "source": [
    "<b> The standard deviation of the naive model = 11626.950749. The process of obtaining this value is in our repository. </b>"
   ]
  },
  {
   "cell_type": "markdown",
   "id": "3eb2d4f2",
   "metadata": {},
   "source": [
    "# 6) Data\n",
    "\n",
    "## 6a) Source\n",
    "What data sources will you use, and how will the data help solve the problem? Explain.\n",
    "If the data is open source, share the link of the data.\n",
    "\n",
    "*(0.5 point)*"
   ]
  },
  {
   "cell_type": "markdown",
   "id": "ed688226",
   "metadata": {},
   "source": [
    "<b> Link: https://archive.ics.uci.edu/ml/datasets/Online+News+Popularity </b>\n",
    "\n",
    "<b> We will use a dataset from the machine learning respiratory on the UCI website from a team of reseachers in Portugal from 2015. It summarizes multiple attributes about articles published by the news outlet <i>Mashable</i> in a period of two years. There are 58 predictive attributes. </b>\n",
    "    \n",
    "<b> The data will help to determine how popular different online news topics are, and in turn what articles online news publishers should prioritize to increase engagement and in turn increase revenue. We will use the data to create different models to predict the relationship between the 58 included predictors and the number of shares types of articles recieve. We will also explore potential interactions among these predictors to build the different models. With this info, publishers can better show content that will see increased shares. </b>"
   ]
  },
  {
   "cell_type": "markdown",
   "id": "87bee818",
   "metadata": {},
   "source": [
    "## 6b) Response & predictors\n",
    "What is the response, and mention some of the predictors.\n",
    "\n",
    "*(0.5 point)*"
   ]
  },
  {
   "cell_type": "markdown",
   "id": "d03fe0db",
   "metadata": {},
   "source": [
    "<b> The response variable in our dataset is the number of shares (\"shares\" in the dataset). </b>\n",
    "\n",
    "<b> Some examples of the predictors includes [1] number of letters in the title of the article, [2] what day of the week it was published on, [3] what genre the article was (tech, business, etc.), and [4] the rate of negative words in context. </b>"
   ]
  },
  {
   "cell_type": "markdown",
   "id": "8eb561c3",
   "metadata": {},
   "source": [
    "## 6c) Size\n",
    "What is the number of continuous predictors, categorical predictors, and observations in your dataset(s). If you are using multiple datasets, please provide the information for each dataset. When counting predictors, count only those that have sufficient non-missing values, and will be useful.\n",
    "\n",
    "*(1 point)*"
   ]
  },
  {
   "cell_type": "markdown",
   "id": "d688db04",
   "metadata": {},
   "source": [
    "<b> Our dataset contains 58 predictors with sufficient non-missing values, which are in numerical form. Our dataset has categorical variables already turned into dummy variables, so it will make the data cleaning process less intensive. </b>\n",
    "    \n",
    "<b> We also observe 39644 observations in our dataset. </b>"
   ]
  },
  {
   "cell_type": "markdown",
   "id": "0450286f",
   "metadata": {},
   "source": [
    "# 7) Exisiting solutions\n",
    "Are there existing solutions of your problem? Almost all Kaggle datasets have exisiting solutions. If yes, then how do you plan to build up on those solutions? **What is the highest model accuracy / performance achieved in the existing solutions?**\n",
    "\n",
    "*(1 point)*"
   ]
  },
  {
   "cell_type": "markdown",
   "id": "acfa47dc",
   "metadata": {},
   "source": [
    "<b> This dataset was originally created by researchers looking to predict online news in this paper (https://core.ac.uk/download/pdf/55638607.pdf). They used random forest and other methods to predict shares to each type of site, but in their paper they used mainly classification with thresholds to determine article popularity (they also had multiple models but accuracy was usually between 60-80%), so we will be predicting the number of shares, making this a regression problem. </b>"
   ]
  },
  {
   "cell_type": "markdown",
   "id": "cb8a845f",
   "metadata": {},
   "source": [
    "# 8) Stakeholders"
   ]
  },
  {
   "cell_type": "markdown",
   "id": "d39c782c",
   "metadata": {},
   "source": [
    "Who are the stakeholders, and how will your project benefit them? Explain.\n",
    "\n",
    "*(1 point)*"
   ]
  },
  {
   "cell_type": "markdown",
   "id": "853e744c",
   "metadata": {},
   "source": [
    "<b> Our primary stakeholders will be online publications and platforms seeking to maximize their engagement with their online audiences. Our project will be to provide insight into what type and topic of article trends most often in the forms of shares, which are incredibly valuable to increasing engagement as they put content much farther than any single site. By harnessing the results of our project, publishers will know what sort of content to prioritize in their feeds to their users and, in turn, increase revenue from increased traffic and engagement.</b>"
   ]
  },
  {
   "cell_type": "markdown",
   "id": "0c874b4f",
   "metadata": {},
   "source": [
    "# 9) Work-split\n",
    "*(This question is answered for you)*\n",
    "\n",
    "How do you plan to split the project work amongst individual team members?\n",
    "\n",
    "We will learn to develop and tune the following models in the STAT303 sequence:\n",
    "\n",
    "1. MARS\n",
    "\n",
    "2. Decision trees with cost-complexity pruning\n",
    "\n",
    "3. Bagging (Bagging MARS / decision trees)\n",
    "\n",
    "4. Random Forests\n",
    "\n",
    "5. AdaBoost\n",
    "\n",
    "6. Gradient boosting\n",
    "\n",
    "7. XGBoost\n",
    "\n",
    "8. Lasso / Ridge / Stepwise selection \n",
    "\n",
    "Each team member is required to develop and tune at least one of the above models. In the end, the team will combine all the developed models to create a model more accurate than each of the individual models.\n",
    "\n",
    "*(0 points)*"
   ]
  },
  {
   "cell_type": "markdown",
   "id": "d4ea9a6b",
   "metadata": {},
   "source": [
    "    1. MARS - Daniel\n",
    "    2. Decision trees with cost-complexity pruning - Daniel\n",
    "    3. Bagging (Bagging MARS / decision trees) - Sarah\n",
    "    4. Random Forests - Sarah\n",
    "    5. AdaBoost - Anika\n",
    "    6. Gradient boosting - Anika\n",
    "    7. XGBoost - Gemily\n",
    "    8. Lasso / Ridge / Stepwise selection - Gemily\n",
    "\n",
    "<b>\n",
    "Although we will each be assigned certain models (listed above) and be responsible for them, we will all help each other with model development. We also seek to fairly work on both the analysis and reporting of the project, starting from choosing our dataset and proposal all the way through the report. \n",
    "    \n",
    "</b>"
   ]
  }
 ],
 "metadata": {
  "kernelspec": {
   "display_name": "Python 3 (ipykernel)",
   "language": "python",
   "name": "python3"
  },
  "language_info": {
   "codemirror_mode": {
    "name": "ipython",
    "version": 3
   },
   "file_extension": ".py",
   "mimetype": "text/x-python",
   "name": "python",
   "nbconvert_exporter": "python",
   "pygments_lexer": "ipython3",
   "version": "3.9.13"
  }
 },
 "nbformat": 4,
 "nbformat_minor": 5
}
