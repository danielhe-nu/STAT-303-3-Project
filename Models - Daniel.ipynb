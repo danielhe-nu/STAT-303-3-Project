{
 "cells": [
  {
   "cell_type": "code",
   "execution_count": 9,
   "id": "6abf4b31",
   "metadata": {},
   "outputs": [],
   "source": [
    "import pandas as pd\n",
    "import numpy as np\n",
    "import seaborn as sns\n",
    "import matplotlib.pyplot as plt\n",
    "import itertools as it\n",
    "from sklearn.preprocessing import StandardScaler\n",
    "from sklearn.metrics import accuracy_score, precision_score, recall_score\n",
    "from sklearn.model_selection import cross_val_score,train_test_split,RandomizedSearchCV,cross_val_predict\n",
    "from sklearn.model_selection import StratifiedKFold, KFold\n",
    "from sklearn.model_selection import GridSearchCV, ParameterGrid\n",
    "import time as time\n",
    "from sklearn.linear_model import LogisticRegression\n",
    "from patsy import dmatrix\n",
    "from sklearn.tree import DecisionTreeClassifier\n",
    "from sklearn.neighbors import KNeighborsClassifier\n",
    "from sklearn.ensemble import RandomForestClassifier, AdaBoostClassifier, GradientBoostingClassifier\n",
    "import xgboost as xgb\n",
    "from lightgbm import LGBMRegressor, LGBMClassifier\n",
    "from catboost import CatBoostClassifier\n",
    "import warnings\n",
    "warnings.filterwarnings(\"ignore\")\n",
    "\n",
    "data = pd.read_csv('data_dropped.csv')"
   ]
  },
  {
   "cell_type": "code",
   "execution_count": 10,
   "id": "742b04da",
   "metadata": {},
   "outputs": [],
   "source": [
    "X_train, X_test, y_train, y_test = train_test_split(\n",
    "    data.drop(['popular'], axis = 1),\n",
    "    data['popular'],\n",
    "    test_size = 0.2,\n",
    "    random_state = 42)"
   ]
  },
  {
   "cell_type": "code",
   "execution_count": 14,
   "id": "a3342c36",
   "metadata": {},
   "outputs": [],
   "source": [
    "scaler = StandardScaler().fit(X_train)\n",
    "X_train_scaled = scaler.transform(X_train)\n",
    "X_test_scaled = scaler.transform(X_test)"
   ]
  },
  {
   "cell_type": "markdown",
   "id": "b7114485",
   "metadata": {},
   "source": [
    "# Adaboost"
   ]
  },
  {
   "cell_type": "code",
   "execution_count": 22,
   "id": "6c8c731b",
   "metadata": {},
   "outputs": [
    {
     "name": "stdout",
     "output_type": "stream",
     "text": [
      "Accuracy: 0.6608651784588221\n",
      "Precision: 0.6562342251388188\n"
     ]
    }
   ],
   "source": [
    "# base model\n",
    "ada_base = AdaBoostClassifier(base_estimator = DecisionTreeClassifier(random_state = 1),\n",
    "                           random_state = 1)\n",
    "ada_base.fit(X_train_scaled, y_train)\n",
    "\n",
    "ada_base_pred = ada_base.predict(X_test_scaled)\n",
    "print('Accuracy:', accuracy_score(y_test, ada_base_pred))\n",
    "print('Precision:', precision_score(y_test, ada_base_pred))"
   ]
  },
  {
   "cell_type": "code",
   "execution_count": null,
   "id": "46b32973",
   "metadata": {},
   "outputs": [],
   "source": [
    "model = AdaBoostClassifier(random_state=1)\n",
    "grid = dict()\n",
    "grid['n_estimators'] = [10, 50, 100,200,500, 1000]\n",
    "grid['learning_rate'] = [0.001, 0.01,0.1, 0.5, 1.0]\n",
    "grid['base_estimator'] = [DecisionTreeClassifier(max_depth=1), DecisionTreeClassifier(max_depth=10), DecisionTreeClassifier(max_depth=15),DecisionTreeClassifier(max_depth=20)]\n",
    "\n",
    "# define the evaluation procedure\n",
    "cv = StratifiedKFold(n_splits=5, shuffle=True, random_state=1)\n",
    "# define the grid search procedure\n",
    "grid_search = GridSearchCV(estimator=model, param_grid=grid, n_jobs=-1, cv=cv, \n",
    "                          verbose = True)\n",
    "# execute the grid search\n",
    "grid_result = grid_search.fit(X_train_scaled, y_train)\n",
    "# summarize the best score and configuration\n",
    "print(\"Best: %f using %s\" % (grid_result.best_score_, grid_result.best_params_))"
   ]
  },
  {
   "cell_type": "code",
   "execution_count": 28,
   "id": "5981286e",
   "metadata": {},
   "outputs": [
    {
     "name": "stdout",
     "output_type": "stream",
     "text": [
      "Accuracy: 0.742212132677513\n",
      "Precision: 0.7235810971265733\n"
     ]
    }
   ],
   "source": [
    "ada_model = AdaBoostClassifier(base_estimator=DecisionTreeClassifier(max_depth=10), learning_rate=0.01, random_state = 1,\n",
    "                         n_estimators=100).fit(X_train_scaled, y_train)\n",
    "ada_pred = ada_model.predict(X_test_scaled)\n",
    "print('Accuracy:', accuracy_score(y_test, ada_pred))\n",
    "print('Precision:', precision_score(y_test, ada_pred))"
   ]
  },
  {
   "cell_type": "code",
   "execution_count": 38,
   "id": "5258a6d3",
   "metadata": {},
   "outputs": [
    {
     "name": "stdout",
     "output_type": "stream",
     "text": [
      "Accuracy: 0.7505360070626813\n",
      "Precision: 0.7301062573789846\n"
     ]
    }
   ],
   "source": [
    "ada_model = AdaBoostClassifier(base_estimator=DecisionTreeClassifier(max_depth=9), learning_rate=0.001, random_state = 1,\n",
    "                         n_estimators=240).fit(X_train_scaled, y_train)\n",
    "ada_pred = ada_model.predict(X_test_scaled)\n",
    "print('Accuracy:', accuracy_score(y_test, ada_pred))\n",
    "print('Precision:', precision_score(y_test, ada_pred))"
   ]
  },
  {
   "cell_type": "code",
   "execution_count": 90,
   "id": "ae5a5cae",
   "metadata": {},
   "outputs": [],
   "source": [
    "threshold_vals = np.arange(0,1.01,0.01)\n",
    "accuracy_iter = []\n",
    "precision_iter = []\n",
    "\n",
    "ada_model = AdaBoostClassifier(base_estimator=DecisionTreeClassifier(max_depth=9), learning_rate=0.001, random_state = 1,\n",
    "                         n_estimators=240)\n",
    "\n",
    "predicted_probability = cross_val_predict(ada_model, \n",
    "                                    X_train_scaled, y_train, cv = 2, method = 'predict_proba')\n",
    "\n",
    "for threshold_prob in threshold_vals:\n",
    "        predicted_class = predicted_probability[:,1] > threshold_prob\n",
    "        predicted_class = predicted_class.astype(int)\n",
    "        \n",
    "        accuracy = accuracy_score(y_train, predicted_class)\n",
    "        precision = precision_score(y_train, predicted_class)\n",
    "        accuracy_iter.append(accuracy)\n",
    "        precision_iter.append(precision)"
   ]
  },
  {
   "cell_type": "code",
   "execution_count": 91,
   "id": "0606cc16",
   "metadata": {},
   "outputs": [
    {
     "data": {
      "image/png": "[encoded data removed]",
      "text/plain": [
       "<Figure size 720x432 with 1 Axes>"
      ]
     },
     "metadata": {
      "needs_background": "light"
     },
     "output_type": "display_data"
    }
   ],
   "source": [
    "plt.figure(figsize=(10, 6));\n",
    "plt.plot(threshold_vals, accuracy_iter, \"r-\", label = 'Accuracy');\n",
    "plt.plot(threshold_vals, precision_iter, \"g-\", label = 'Precision');\n",
    "plt.ylabel('Score');\n",
    "plt.xlabel('Threshold');\n",
    "plt.legend();"
   ]
  },
  {
   "cell_type": "code",
   "execution_count": 94,
   "id": "b7999517",
   "metadata": {},
   "outputs": [
    {
     "name": "stdout",
     "output_type": "stream",
     "text": [
      "Train Accuracy:  0.8465394923537758\n",
      "Train Precision:  0.8619060120766605\n"
     ]
    }
   ],
   "source": [
    "desired_threshold = 0.61\n",
    "\n",
    "ada_model.fit(X_train_scaled, y_train)\n",
    "ada_pred_prob = ada_model.predict_proba(X_train_scaled)[:,1] \n",
    "\n",
    "ada_pred = ada_pred_prob > desired_threshold\n",
    "ada_pred = ada_pred.astype(int)\n",
    "\n",
    "# Accuracy and precision\n",
    "\n",
    "print(\"Train Accuracy: \", accuracy_score(y_train, ada_pred))  \n",
    "print(\"Train Precision: \", precision_score(y_train, ada_pred))"
   ]
  },
  {
   "cell_type": "code",
   "execution_count": 95,
   "id": "cbe166a5",
   "metadata": {},
   "outputs": [
    {
     "name": "stdout",
     "output_type": "stream",
     "text": [
      "Test Accuracy:  0.7674359944507504\n",
      "Test Precision:  0.7976564732780794\n"
     ]
    }
   ],
   "source": [
    "ada_pred_prob_test = gradient_model.predict_proba(X_test_scaled)[:,1] \n",
    "\n",
    "ada_pred_test = ada_pred_prob_test > desired_threshold\n",
    "ada_pred_test = ada_pred_test.astype(int)\n",
    "\n",
    "# Accuracy and precision\n",
    "\n",
    "print(\"Test Accuracy: \", accuracy_score(y_test, ada_pred_test))  \n",
    "print(\"Test Precision: \", precision_score(y_test, ada_pred_test))"
   ]
  },
  {
   "cell_type": "markdown",
   "id": "c3bf327d",
   "metadata": {},
   "source": [
    "# LightGBM"
   ]
  },
  {
   "cell_type": "code",
   "execution_count": 54,
   "id": "c64cfec2",
   "metadata": {},
   "outputs": [
    {
     "name": "stdout",
     "output_type": "stream",
     "text": [
      "Accuracy: 0.7670576365241518\n",
      "Precision: 0.7566633761105627\n"
     ]
    }
   ],
   "source": [
    "# base model\n",
    "lgbm_base = LGBMClassifier(random_state=1).fit(X_train_scaled, y_train)\n",
    "lgbm_base_pred = lgbm_base.predict(X_test_scaled)\n",
    "\n",
    "print('Accuracy:', accuracy_score(y_test, lgbm_base_pred))\n",
    "print('Precision:', precision_score(y_test, lgbm_base_pred))"
   ]
  },
  {
   "cell_type": "code",
   "execution_count": 132,
   "id": "fcda8c43",
   "metadata": {},
   "outputs": [
    {
     "name": "stdout",
     "output_type": "stream",
     "text": [
      "Accuracy: 0.7704628578635389\n",
      "Precision: 0.7622603933283545\n"
     ]
    }
   ],
   "source": [
    "lgbm_model = LGBMClassifier(random_state=1, subsample= 0.75, reg_lambda= 100, reg_alpha= 0, num_leaves= 31, n_estimators= 2000, max_depth= 2, learning_rate= 0.11, colsample_bytree = 0.75).fit(X_train_scaled, y_train)\n",
    "lgbm_pred = lgbm_model.predict(X_test_scaled)\n",
    "\n",
    "print('Accuracy:', accuracy_score(y_test, lgbm_pred))\n",
    "print('Precision:', precision_score(y_test, lgbm_pred))"
   ]
  },
  {
   "cell_type": "code",
   "execution_count": 139,
   "id": "55543a03",
   "metadata": {},
   "outputs": [
    {
     "name": "stdout",
     "output_type": "stream",
     "text": [
      "Fitting 2 folds for each of 200 candidates, totalling 400 fits\n",
      "Optimal parameter values = {'subsample': 0.5, 'reg_lambda': 10, 'reg_alpha': 10, 'num_leaves': 40, 'n_estimators': 1000, 'max_depth': 8, 'learning_rate': 0.01}\n",
      "Optimal cross validation R-squared =  0.7627305778431686\n",
      "Time taken =  4  minutes\n"
     ]
    }
   ],
   "source": [
    "#K-fold cross validation to find optimal parameters for LightGBM regressor\n",
    "start_time = time.time()\n",
    "param_grid = {'max_depth': [4,6,8],\n",
    "              'num_leaves': [20, 31, 40],\n",
    "              'learning_rate': [0.01, 0.05, 0.1],\n",
    "               'reg_lambda':[0, 10, 100],\n",
    "                'n_estimators':[100, 500, 1000],\n",
    "                'reg_alpha': [0, 10, 100],\n",
    "                'subsample': [0.5, 0.75, 1.0]}\n",
    "\n",
    "cv = KFold(n_splits=2,shuffle=True,random_state=1)\n",
    "optimal_params = RandomizedSearchCV(estimator=LGBMClassifier(random_state=1),                                                       \n",
    "                             param_distributions = param_grid, n_iter = 200,\n",
    "                             verbose = 1,\n",
    "                             n_jobs=-1,\n",
    "                             cv = cv)\n",
    "optimal_params.fit(X_train_scaled,y_train)\n",
    "print(\"Optimal parameter values =\", optimal_params.best_params_)\n",
    "print(\"Optimal cross validation R-squared = \",optimal_params.best_score_)\n",
    "print(\"Time taken = \", round((time.time()-start_time)/60), \" minutes\")"
   ]
  },
  {
   "cell_type": "code",
   "execution_count": 140,
   "id": "0938585e",
   "metadata": {},
   "outputs": [
    {
     "name": "stdout",
     "output_type": "stream",
     "text": [
      "Accuracy: 0.7728591247319965\n",
      "Precision: 0.7653519720419371\n"
     ]
    }
   ],
   "source": [
    "lgbm_model = LGBMClassifier(random_state=1, subsample= 0.5, reg_lambda= 10, reg_alpha= 10, num_leaves= 40, n_estimators= 2000, max_depth= 8, learning_rate= 0.01, colsample_bytree = 0.75).fit(X_train_scaled, y_train)\n",
    "lgbm_pred = lgbm_model.predict(X_test_scaled)\n",
    "\n",
    "print('Accuracy:', accuracy_score(y_test, lgbm_pred))\n",
    "print('Precision:', precision_score(y_test, lgbm_pred))"
   ]
  },
  {
   "cell_type": "code",
   "execution_count": 146,
   "id": "817f8b86",
   "metadata": {},
   "outputs": [],
   "source": [
    "threshold_vals = np.arange(0,1.01,0.01)\n",
    "accuracy_iter = []\n",
    "precision_iter = []\n",
    "\n",
    "predicted_probability = cross_val_predict(lgbm_model, \n",
    "                                    X_train_scaled, y_train, cv = 2, method = 'predict_proba')\n",
    "\n",
    "for threshold_prob in threshold_vals:\n",
    "        predicted_class = predicted_probability[:,1] > threshold_prob\n",
    "        predicted_class = predicted_class.astype(int)\n",
    "        \n",
    "        accuracy = accuracy_score(y_train, predicted_class)\n",
    "        precision = precision_score(y_train, predicted_class)\n",
    "        accuracy_iter.append(accuracy)\n",
    "        precision_iter.append(precision)"
   ]
  },
  {
   "cell_type": "code",
   "execution_count": 147,
   "id": "be8160fe",
   "metadata": {},
   "outputs": [
    {
     "data": {
      "image/png": "[encoded data removed]",
      "text/plain": [
       "<Figure size 720x432 with 1 Axes>"
      ]
     },
     "metadata": {
      "needs_background": "light"
     },
     "output_type": "display_data"
    }
   ],
   "source": [
    "plt.figure(figsize=(10, 6));\n",
    "plt.plot(threshold_vals, accuracy_iter, \"r-\", label = 'Accuracy');\n",
    "plt.plot(threshold_vals, precision_iter, \"g-\", label = 'Precision');\n",
    "plt.ylabel('Score');\n",
    "plt.xlabel('Threshold');\n",
    "plt.legend();"
   ]
  },
  {
   "cell_type": "code",
   "execution_count": 174,
   "id": "df3596c1",
   "metadata": {},
   "outputs": [
    {
     "name": "stdout",
     "output_type": "stream",
     "text": [
      "Train Accuracy:  0.8362919754059593\n",
      "Train Precision:  0.8618078561287269\n"
     ]
    }
   ],
   "source": [
    "desired_threshold = 0.56\n",
    "\n",
    "cat_model.fit(X_train_scaled, y_train)\n",
    "cat_pred_prob = cat_model.predict_proba(X_train_scaled)[:,1] \n",
    "\n",
    "cat_pred = cat_pred_prob > desired_threshold\n",
    "cat_pred = cat_pred.astype(int)\n",
    "\n",
    "# Accuracy and precision\n",
    "\n",
    "print(\"Train Accuracy: \", accuracy_score(y_train, cat_pred))  \n",
    "print(\"Train Precision: \", precision_score(y_train, cat_pred))"
   ]
  },
  {
   "cell_type": "code",
   "execution_count": 175,
   "id": "4000a5cc",
   "metadata": {},
   "outputs": [
    {
     "name": "stdout",
     "output_type": "stream",
     "text": [
      "Test Accuracy:  0.7722285281876655\n",
      "Test Precision:  0.7778359968561698\n"
     ]
    }
   ],
   "source": [
    "cat_pred_prob_test = gradient_model.predict_proba(X_test_scaled)[:,1] \n",
    "\n",
    "cat_pred_test = cat_pred_prob_test > desired_threshold\n",
    "cat_pred_test = cat_pred_test.astype(int)\n",
    "\n",
    "# Accuracy and precision\n",
    "\n",
    "print(\"Test Accuracy: \", accuracy_score(y_test, cat_pred_test))  \n",
    "print(\"Test Precision: \", precision_score(y_test, cat_pred_test))"
   ]
  },
  {
   "cell_type": "markdown",
   "id": "30626917",
   "metadata": {},
   "source": [
    "# Catboost"
   ]
  },
  {
   "cell_type": "code",
   "execution_count": 98,
   "id": "0de9bb13",
   "metadata": {},
   "outputs": [
    {
     "name": "stdout",
     "output_type": "stream",
     "text": [
      "Accuracy: 0.7715979316433346\n",
      "Precision: 0.7637088733798604\n"
     ]
    }
   ],
   "source": [
    "# base model\n",
    "cat_base = CatBoostClassifier(random_state=1, verbose = False).fit(X_train_scaled, y_train)\n",
    "cat_base_pred = cat_base.predict(X_test_scaled)\n",
    "\n",
    "print('Accuracy:', accuracy_score(y_test, cat_base_pred))\n",
    "print('Precision:', precision_score(y_test, cat_base_pred))"
   ]
  },
  {
   "cell_type": "code",
   "execution_count": 103,
   "id": "6544a1fb",
   "metadata": {},
   "outputs": [],
   "source": [
    "threshold_vals = np.arange(0,1.01,0.01)\n",
    "accuracy_iter = []\n",
    "precision_iter = []\n",
    "\n",
    "cat_model = CatBoostClassifier(random_state=1, verbose = False)\n",
    "\n",
    "predicted_probability = cross_val_predict(cat_model, \n",
    "                                    X_train_scaled, y_train, cv = 2, method = 'predict_proba')\n",
    "\n",
    "for threshold_prob in threshold_vals:\n",
    "        predicted_class = predicted_probability[:,1] > threshold_prob\n",
    "        predicted_class = predicted_class.astype(int)\n",
    "        \n",
    "        accuracy = accuracy_score(y_train, predicted_class)\n",
    "        precision = precision_score(y_train, predicted_class)\n",
    "        accuracy_iter.append(accuracy)\n",
    "        precision_iter.append(precision)"
   ]
  },
  {
   "cell_type": "code",
   "execution_count": 104,
   "id": "76b8ebb9",
   "metadata": {},
   "outputs": [
    {
     "data": {
      "image/png": "[encoded data removed]",
      "text/plain": [
       "<Figure size 720x432 with 1 Axes>"
      ]
     },
     "metadata": {
      "needs_background": "light"
     },
     "output_type": "display_data"
    }
   ],
   "source": [
    "plt.figure(figsize=(10, 6));\n",
    "plt.plot(threshold_vals, accuracy_iter, \"r-\", label = 'Accuracy');\n",
    "plt.plot(threshold_vals, precision_iter, \"g-\", label = 'Precision');\n",
    "plt.ylabel('Score');\n",
    "plt.xlabel('Threshold');\n",
    "plt.legend();"
   ]
  },
  {
   "cell_type": "code",
   "execution_count": 117,
   "id": "92922622",
   "metadata": {},
   "outputs": [
    {
     "name": "stdout",
     "output_type": "stream",
     "text": [
      "Train Accuracy:  0.8371748384045404\n",
      "Train Precision:  0.8746595908106976\n"
     ]
    }
   ],
   "source": [
    "desired_threshold = 0.58\n",
    "\n",
    "cat_model.fit(X_train_scaled, y_train)\n",
    "cat_pred_prob = cat_model.predict_proba(X_train_scaled)[:,1] \n",
    "\n",
    "cat_pred = cat_pred_prob > desired_threshold\n",
    "cat_pred = cat_pred.astype(int)\n",
    "\n",
    "# Accuracy and precision\n",
    "\n",
    "print(\"Train Accuracy: \", accuracy_score(y_train, cat_pred))  \n",
    "print(\"Train Precision: \", precision_score(y_train, cat_pred))"
   ]
  },
  {
   "cell_type": "code",
   "execution_count": 118,
   "id": "b9277bc9",
   "metadata": {},
   "outputs": [
    {
     "name": "stdout",
     "output_type": "stream",
     "text": [
      "Test Accuracy:  0.7715979316433346\n",
      "Test Precision:  0.786410395235517\n"
     ]
    }
   ],
   "source": [
    "cat_pred_prob_test = gradient_model.predict_proba(X_test_scaled)[:,1] \n",
    "\n",
    "cat_pred_test = cat_pred_prob_test > desired_threshold\n",
    "cat_pred_test = cat_pred_test.astype(int)\n",
    "\n",
    "# Accuracy and precision\n",
    "\n",
    "print(\"Test Accuracy: \", accuracy_score(y_test, cat_pred_test))  \n",
    "print(\"Test Precision: \", precision_score(y_test, cat_pred_test))"
   ]
  },
  {
   "cell_type": "markdown",
   "id": "e99372c3",
   "metadata": {},
   "source": [
    "# Ensembles"
   ]
  },
  {
   "cell_type": "code",
   "execution_count": 75,
   "id": "7f906176",
   "metadata": {},
   "outputs": [
    {
     "name": "stdout",
     "output_type": "stream",
     "text": [
      "Test Accuracy:  0.7565897338882583\n",
      "Test Precision:  0.804513571210735\n"
     ]
    }
   ],
   "source": [
    "# random forest\n",
    "rf_model = RandomForestClassifier(max_features = 'sqrt', max_depth = 35, min_samples_split = 6,\n",
    "                                 n_estimators = 750, random_state = 1)\n",
    "\n",
    "desired_threshold = 0.61\n",
    "\n",
    "rf_model.fit(X_train_scaled, y_train)\n",
    "rf_pred_prob = rf_model.predict_proba(X_test_scaled)[:,1] \n",
    "\n",
    "rf_pred = rf_pred_prob > desired_threshold\n",
    "rf_pred = rf_pred.astype(int)\n",
    "print(\"Test Accuracy: \", accuracy_score(y_test, rf_pred))  \n",
    "print(\"Test Precision: \", precision_score(y_test, rf_pred))"
   ]
  },
  {
   "cell_type": "code",
   "execution_count": 77,
   "id": "546131d2",
   "metadata": {},
   "outputs": [
    {
     "name": "stdout",
     "output_type": "stream",
     "text": [
      "Test Accuracy:  0.7679404716862152\n",
      "Test Precision:  0.7920514973411699\n"
     ]
    }
   ],
   "source": [
    "# gradient boosting\n",
    "gradient_model = GradientBoostingClassifier(subsample= 0.6, n_estimators= 750, min_samples_split = 5, max_depth= 10, learning_rate= 0.01, n_iter_no_change = 10, random_state = 1, )\n",
    "\n",
    "desired_threshold = 0.6\n",
    "gradient_model.fit(X_train_scaled, y_train)\n",
    "gradient_pred_prob = gradient_model.predict_proba(X_test_scaled)[:,1] \n",
    "\n",
    "gradient_pred = gradient_pred_prob > desired_threshold\n",
    "gradient_pred = gradient_pred.astype(int)\n",
    "\n",
    "print(\"Test Accuracy: \", accuracy_score(y_test, gradient_pred))  \n",
    "print(\"Test Precision: \", precision_score(y_test, gradient_pred))"
   ]
  },
  {
   "cell_type": "code",
   "execution_count": 83,
   "id": "07f021af",
   "metadata": {},
   "outputs": [
    {
     "name": "stdout",
     "output_type": "stream",
     "text": [
      "Test Accuracy:  0.7640307731113634\n",
      "Test Precision:  0.8182662538699691\n"
     ]
    }
   ],
   "source": [
    "# gradient boosting\n",
    "xgb_model = xgb.XGBClassifier(random_state = 1, objective = 'binary:logistic', scale_pos_weight = 1,\n",
    "                             subsample = 0.8, reg_lambda = 10, n_estimators = 2000, \n",
    "                              max_depth = 10, learning_rate = 0.01, gamma = 0)\n",
    "\n",
    "desired_threshold = 0.65\n",
    "xgb_model.fit(X_train_scaled, y_train)\n",
    "xgb_pred_prob = xgb_model.predict_proba(X_test_scaled)[:,1] \n",
    "\n",
    "xgb_pred = xgb_pred_prob > desired_threshold\n",
    "xgb_pred = xgb_pred.astype(int)\n",
    "\n",
    "print(\"Test Accuracy: \", accuracy_score(y_test, xgb_pred))  \n",
    "print(\"Test Precision: \", precision_score(y_test, xgb_pred))"
   ]
  },
  {
   "cell_type": "markdown",
   "id": "0afcf970",
   "metadata": {},
   "source": [
    "## Voting"
   ]
  },
  {
   "cell_type": "code",
   "execution_count": null,
   "id": "04baa765",
   "metadata": {},
   "outputs": [],
   "source": [
    "from sklearn.ensemble import VotingRegressor, VotingClassifier, StackingRegressor, StackingClassifier, GradientBoostingRegressor,GradientBoostingClassifier, BaggingRegressor,BaggingClassifier,RandomForestRegressor,RandomForestClassifier,AdaBoostRegressor,AdaBoostClassifier\n",
    "\n",
    "# Voting ensemble with XGBoost, Gradient, and Random Forest (all tree based)\n",
    "#en_1=VotingClassifier(estimators = [(xgb_model),(gradient_model),(rf_model)])\n",
    "#en_1.fit(X_train_scaled,y_train)\n",
    "#en_1.score(X_test, y_test)\n",
    "\n",
    "ensemble_model = VotingClassifier(estimators=[('xgb',xgb_model),('grad',gradient_model),('rf',rf_model), ('cat',cat_base), ('lgbm', lgbm_base)])\n",
    "ensemble_model.fit(X_train_scaled,y_train)\n",
    "ensemble_model.score(X_test_scaled, y_test)"
   ]
  },
  {
   "cell_type": "code",
   "execution_count": null,
   "id": "c3e7dcc6",
   "metadata": {},
   "outputs": [],
   "source": [
    "xgb_grad_rf_soft = VotingClassifier(estimators=[('xgb',xgb_model),('grad',gradient_model),('rf',rf_model), ('cat',cat_base), ('lgbm', lgbm_base)],\n",
    "                                 voting='soft')\n",
    "xgb_grad_rf_soft.fit(X_train_scaled,y_train)\n",
    "xgb_grad_rf_soft.score(X_test_scaled, y_test)"
   ]
  },
  {
   "cell_type": "code",
   "execution_count": null,
   "id": "3daea4ed",
   "metadata": {},
   "outputs": [],
   "source": [
    "#Using Logistic regression as the meta model (final_estimator)\n",
    "xgb_grad_rf_stack = StackingClassifier(estimators=[('xgb',xgb_model),('grad',gradient_model),('rf',rf_model), ('cat',cat_base), ('lgbm', lgbm_base)],\n",
    "                                   final_estimator=LogisticRegression(random_state=1,max_iter=100),n_jobs=-1,\n",
    "                                   cv = StratifiedKFold(n_splits=2,shuffle=True,random_state=1))\n",
    "xgb_grad_rf_stack.fit(X_train_scaled,y_train)\n",
    "xgb_grad_rf_stack.score(X_test_scaled, y_test)"
   ]
  },
  {
   "cell_type": "code",
   "execution_count": null,
   "id": "51d26900",
   "metadata": {},
   "outputs": [],
   "source": []
  }
 ],
 "metadata": {
  "kernelspec": {
   "display_name": "Python 3 (ipykernel)",
   "language": "python",
   "name": "python3"
  },
  "language_info": {
   "codemirror_mode": {
    "name": "ipython",
    "version": 3
   },
   "file_extension": ".py",
   "mimetype": "text/x-python",
   "name": "python",
   "nbconvert_exporter": "python",
   "pygments_lexer": "ipython3",
   "version": "3.9.12"
  }
 },
 "nbformat": 4,
 "nbformat_minor": 5
}
