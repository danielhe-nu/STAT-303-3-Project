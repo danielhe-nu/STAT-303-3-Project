{
 "cells": [
  {
   "cell_type": "raw",
   "id": "33dd6c4c",
   "metadata": {},
   "source": [
    "---\n",
    "title: \"Project Report\"\n",
    "subtitle: Zoom Zoomers\n",
    "author: Daniel He, Sarah Hsu, Gemily Wang, and Anika Kaura  \n",
    "date: 06/07/2023\n",
    "number-sections: true\n",
    "abstract: _The ABSTRACT is to be in fully-justified italicized text at the top of the report, below the author information. The abstract section must summarise the problem statement, the developed model(s), the metric(s) optimized and the recommendations to the stakeholders based on the model (if any). You may also briefly mention any major EDA-based insights that helped develop the model or directly translated into recommendations to the stakeholders. However, the abstract must not be more than 200 words in length_.\n",
    "format: \n",
    "  html:\n",
    "    toc: true\n",
    "    toc-title: Contents\n",
    "    self-contained: true\n",
    "    font-size: 100%\n",
    "    toc-depth: 4\n",
    "    mainfont: serif\n",
    "jupyter: python3\n",
    "---"
   ]
  },
  {
   "cell_type": "markdown",
   "id": "aba5ee91",
   "metadata": {},
   "source": [
    "## Length of the report {-}\n",
    "The length of the report must be no more than 15 pages, when printed as PDF. However, there is no requirement on the minimum number of pages.\n",
    "\n",
    "You may put additional stuff as Appendix. You may refer to the Appendix in the main report to support your arguments. However, your appendix is unlikely to be checked while grading, unless the grader deems it necessary. The appendix and references will not be included in the page count, and there is no limit on the length of the appendix.\n",
    "\n",
    "**Delete this section from the report, when using this template.** "
   ]
  },
  {
   "cell_type": "code",
   "execution_count": 2,
   "id": "a7a8efe0",
   "metadata": {},
   "outputs": [],
   "source": [
    "#| echo: false\n",
    "import pandas as pd\n",
    "import numpy as np\n",
    "import statsmodels.formula.api as smf\n",
    "import statsmodels.api as sm\n",
    "from statsmodels.formula.api import ols\n",
    "import seaborn as sns\n",
    "import matplotlib.pyplot as plt\n",
    "import warnings\n",
    "warnings.filterwarnings(\"ignore\")\n",
    "\n",
    "pd.set_option('display.max_columns', 100)\n",
    "OnlineNewsPopularity = pd.read_csv(\"OnlineNewsPopularity.csv\")"
   ]
  },
  {
   "cell_type": "markdown",
   "id": "0116f49b",
   "metadata": {},
   "source": [
    "## Background / Motivation"
   ]
  },
  {
   "cell_type": "markdown",
   "id": "e1d7bd90",
   "metadata": {},
   "source": [
    "We were motivated to work on this problem due to our generation primarily receiving news from online media sources and other forms of social media. We recognized that not all news is shared equally, however, and we wanted to understand the features that determine the popularity of news articles published online."
   ]
  },
  {
   "cell_type": "markdown",
   "id": "84ff1421",
   "metadata": {},
   "source": [
    "## Problem statement "
   ]
  },
  {
   "cell_type": "markdown",
   "id": "b7023216",
   "metadata": {},
   "source": [
    "We want to understand the factors underlying online news popularity and predict whether or not articles will be popular based on specific features inherent to each article prior to publication."
   ]
  },
  {
   "cell_type": "markdown",
   "id": "38c7b95f",
   "metadata": {},
   "source": [
    "## Data sources"
   ]
  },
  {
   "cell_type": "markdown",
   "id": "da88b12f",
   "metadata": {},
   "source": [
    "Our dataset contains information about articles published by the news outlet Mashable in a period of two years. The response variable is the number of shares each article has accumulated, and there are 58 predictive attributes that include factors such as word count, keyword count, publication day of the week, and topic. As a result, the dataset is a good resource for exploring the factors that may underlie the popularity of news articles. The dataset can be found on the University of California, Irvine’s machine learning repository. \n",
    "\n",
    "The data can be found here: https://archive.ics.uci.edu/dataset/332/online+news+popularity"
   ]
  },
  {
   "cell_type": "markdown",
   "id": "8c255035",
   "metadata": {},
   "source": [
    "## Stakeholders"
   ]
  },
  {
   "cell_type": "markdown",
   "id": "b2038585",
   "metadata": {},
   "source": [
    "Our stakeholders are online publications and writers for such platforms. Because the metric of success in the literary world is popularity, both the platform and the writer seek to maximize the number of readers their articles will receive. As a result, by successfully predicting the popularity of a news article, they will be able to better gauge what types of articles are likely to receive more engagement; thus they should put more effort into those articles for better returns. "
   ]
  },
  {
   "cell_type": "markdown",
   "id": "fe7ea9bb",
   "metadata": {},
   "source": [
    "## Data quality check / cleaning / preparation "
   ]
  },
  {
   "cell_type": "markdown",
   "id": "f76f853a",
   "metadata": {},
   "source": [
    "The distribution of our binary response variable is shown below. The process by which we created this variable is described later in the report."
   ]
  },
  {
   "cell_type": "code",
   "execution_count": 8,
   "id": "1173fd4e",
   "metadata": {},
   "outputs": [
    {
     "data": {
      "text/html": [
       "<pre style=\"white-space:pre;overflow-x:auto;line-height:normal;font-family:Menlo,'DejaVu Sans Mono',consolas,'Courier New',monospace\"><span style=\"color: #008080; text-decoration-color: #008080; font-weight: bold\">60</span> column names have been cleaned\n",
       "</pre>\n"
      ],
      "text/plain": [
       "\u001b[1;36m60\u001b[0m column names have been cleaned\n"
      ]
     },
     "metadata": {},
     "output_type": "display_data"
    },
    {
     "name": "stdout",
     "output_type": "stream",
     "text": [
      "Proportion of 1s: 0.5\n",
      "Proportion of 0s: 0.5\n"
     ]
    }
   ],
   "source": [
    "#| echo: false\n",
    "\n",
    "from skimpy import clean_columns\n",
    "data = clean_columns(OnlineNewsPopularity)\n",
    "\n",
    "\n",
    "data.iloc[data.n_unique_tokens.argmax()]\n",
    "data.iloc[31037].n_non_stop_words\n",
    "data.iloc[31037].n_non_stop_unique_tokens\n",
    "data.iloc[31037, data.columns.get_loc('n_unique_tokens')] = data.n_unique_tokens[31037]/data.n_tokens_content[31037]\n",
    "data.iloc[31037, data.columns.get_loc('n_non_stop_words')] = data.n_non_stop_words[31037]/data.n_tokens_content[31037]\n",
    "data.iloc[31037, data.columns.get_loc('n_non_stop_unique_tokens')] = data.n_non_stop_unique_tokens[31037]/data.n_tokens_content[31037]\n",
    "\n",
    "data['avg_shares_per_day'] = data['shares']/data['timedelta']\n",
    "\n",
    "data['popular'] = data.avg_shares_per_day.apply(lambda x: 1 if x > np.median(data.avg_shares_per_day)\n",
    "                                    else 0)\n",
    "\n",
    "print('Proportion of 1s:', np.mean(data.popular))\n",
    "print('Proportion of 0s:', 1-np.mean(data.popular))"
   ]
  },
  {
   "cell_type": "markdown",
   "id": "37fdda2e",
   "metadata": {},
   "source": [
    "The distributions of our predictors are shown below as well. "
   ]
  },
  {
   "cell_type": "code",
   "execution_count": 23,
   "id": "763bf7a0",
   "metadata": {},
   "outputs": [
    {
     "name": "stdout",
     "output_type": "stream",
     "text": [
      "Wednesday    7435\n",
      "Tuesday      7390\n",
      "Thursday     7267\n",
      "Monday       6661\n",
      "Friday       5701\n",
      "Sunday       2737\n",
      "Saturday     2453\n",
      "Name: day, dtype: int64\n"
     ]
    }
   ],
   "source": [
    "#| echo: false\n",
    "data_cat = data.copy()\n",
    "data_cat['day'] = data_cat.apply(lambda x: 'Sunday' if x['weekday_is_sunday'] == 1\n",
    "                                    else 'Monday' if x['weekday_is_monday'] == 1\n",
    "                                    else 'Tuesday' if x['weekday_is_tuesday'] == 1\n",
    "                                    else 'Wednesday' if x['weekday_is_wednesday'] == 1\n",
    "                                    else 'Thursday' if x['weekday_is_thursday'] == 1\n",
    "                                    else 'Friday' if x['weekday_is_friday'] == 1\n",
    "                                    else 'Saturday', axis = 1)\n",
    "\n",
    "data_cat['data_channel'] = data_cat.apply(lambda x: 'lifestyle' if x['data_channel_is_lifestyle'] == 1\n",
    "                                             else 'tech' if x['data_channel_is_tech'] == 1\n",
    "                                             else 'socmed' if x['data_channel_is_socmed'] == 1\n",
    "                                             else 'entertainment' if x['data_channel_is_entertainment'] == 1\n",
    "                                             else 'bus' if x['data_channel_is_bus'] == 1\n",
    "                                             else 'world', axis = 1)\n",
    "\n",
    "print(data_cat.day.value_counts())"
   ]
  },
  {
   "cell_type": "code",
   "execution_count": 24,
   "id": "5a53e428",
   "metadata": {},
   "outputs": [
    {
     "name": "stdout",
     "output_type": "stream",
     "text": [
      "world            14561\n",
      "tech              7346\n",
      "entertainment     7057\n",
      "bus               6258\n",
      "socmed            2323\n",
      "lifestyle         2099\n",
      "Name: data_channel, dtype: int64\n"
     ]
    }
   ],
   "source": [
    "#| echo: false\n",
    "print(data_cat.data_channel.value_counts())"
   ]
  },
  {
   "cell_type": "code",
   "execution_count": 26,
   "id": "92d21260",
   "metadata": {},
   "outputs": [],
   "source": [
    "#| echo: false\n",
    "dummies = [col for col in data.columns if 'is' in col]\n",
    "data_num = data.drop(dummies, axis = 1)"
   ]
  },
  {
   "cell_type": "code",
   "execution_count": 28,
   "id": "8d4bb260",
   "metadata": {
    "scrolled": true
   },
   "outputs": [
    {
     "data": {
      "text/html": [
       "<div>\n",
       "<style scoped>\n",
       "    .dataframe tbody tr th:only-of-type {\n",
       "        vertical-align: middle;\n",
       "    }\n",
       "\n",
       "    .dataframe tbody tr th {\n",
       "        vertical-align: top;\n",
       "    }\n",
       "\n",
       "    .dataframe thead th {\n",
       "        text-align: right;\n",
       "    }\n",
       "</style>\n",
       "<table border=\"1\" class=\"dataframe\">\n",
       "  <thead>\n",
       "    <tr style=\"text-align: right;\">\n",
       "      <th></th>\n",
       "      <th>timedelta</th>\n",
       "      <th>n_tokens_title</th>\n",
       "      <th>n_tokens_content</th>\n",
       "      <th>n_unique_tokens</th>\n",
       "      <th>n_non_stop_words</th>\n",
       "      <th>n_non_stop_unique_tokens</th>\n",
       "      <th>num_hrefs</th>\n",
       "      <th>num_self_hrefs</th>\n",
       "      <th>num_imgs</th>\n",
       "    </tr>\n",
       "  </thead>\n",
       "  <tbody>\n",
       "    <tr>\n",
       "      <th>count</th>\n",
       "      <td>39644.000000</td>\n",
       "      <td>39644.000000</td>\n",
       "      <td>39644.000000</td>\n",
       "      <td>39644.000000</td>\n",
       "      <td>39644.000000</td>\n",
       "      <td>39644.000000</td>\n",
       "      <td>39644.000000</td>\n",
       "      <td>39644.000000</td>\n",
       "      <td>39644.000000</td>\n",
       "    </tr>\n",
       "    <tr>\n",
       "      <th>mean</th>\n",
       "      <td>354.530471</td>\n",
       "      <td>10.398749</td>\n",
       "      <td>546.514731</td>\n",
       "      <td>0.530545</td>\n",
       "      <td>0.970201</td>\n",
       "      <td>0.672790</td>\n",
       "      <td>10.883690</td>\n",
       "      <td>3.293638</td>\n",
       "      <td>4.544143</td>\n",
       "    </tr>\n",
       "    <tr>\n",
       "      <th>std</th>\n",
       "      <td>214.163767</td>\n",
       "      <td>2.114037</td>\n",
       "      <td>471.107508</td>\n",
       "      <td>0.137111</td>\n",
       "      <td>0.170017</td>\n",
       "      <td>0.154039</td>\n",
       "      <td>11.332017</td>\n",
       "      <td>3.855141</td>\n",
       "      <td>8.309434</td>\n",
       "    </tr>\n",
       "    <tr>\n",
       "      <th>min</th>\n",
       "      <td>8.000000</td>\n",
       "      <td>2.000000</td>\n",
       "      <td>0.000000</td>\n",
       "      <td>0.000000</td>\n",
       "      <td>0.000000</td>\n",
       "      <td>0.000000</td>\n",
       "      <td>0.000000</td>\n",
       "      <td>0.000000</td>\n",
       "      <td>0.000000</td>\n",
       "    </tr>\n",
       "    <tr>\n",
       "      <th>25%</th>\n",
       "      <td>164.000000</td>\n",
       "      <td>9.000000</td>\n",
       "      <td>246.000000</td>\n",
       "      <td>0.470858</td>\n",
       "      <td>1.000000</td>\n",
       "      <td>0.625720</td>\n",
       "      <td>4.000000</td>\n",
       "      <td>1.000000</td>\n",
       "      <td>1.000000</td>\n",
       "    </tr>\n",
       "    <tr>\n",
       "      <th>50%</th>\n",
       "      <td>339.000000</td>\n",
       "      <td>10.000000</td>\n",
       "      <td>409.000000</td>\n",
       "      <td>0.539216</td>\n",
       "      <td>1.000000</td>\n",
       "      <td>0.690476</td>\n",
       "      <td>8.000000</td>\n",
       "      <td>3.000000</td>\n",
       "      <td>1.000000</td>\n",
       "    </tr>\n",
       "    <tr>\n",
       "      <th>75%</th>\n",
       "      <td>542.000000</td>\n",
       "      <td>12.000000</td>\n",
       "      <td>716.000000</td>\n",
       "      <td>0.608696</td>\n",
       "      <td>1.000000</td>\n",
       "      <td>0.754620</td>\n",
       "      <td>14.000000</td>\n",
       "      <td>4.000000</td>\n",
       "      <td>4.000000</td>\n",
       "    </tr>\n",
       "    <tr>\n",
       "      <th>max</th>\n",
       "      <td>731.000000</td>\n",
       "      <td>23.000000</td>\n",
       "      <td>8474.000000</td>\n",
       "      <td>1.000000</td>\n",
       "      <td>1.000000</td>\n",
       "      <td>1.000000</td>\n",
       "      <td>304.000000</td>\n",
       "      <td>116.000000</td>\n",
       "      <td>128.000000</td>\n",
       "    </tr>\n",
       "  </tbody>\n",
       "</table>\n",
       "</div>"
      ],
      "text/plain": [
       "          timedelta  n_tokens_title  n_tokens_content  n_unique_tokens  \\\n",
       "count  39644.000000    39644.000000      39644.000000     39644.000000   \n",
       "mean     354.530471       10.398749        546.514731         0.530545   \n",
       "std      214.163767        2.114037        471.107508         0.137111   \n",
       "min        8.000000        2.000000          0.000000         0.000000   \n",
       "25%      164.000000        9.000000        246.000000         0.470858   \n",
       "50%      339.000000       10.000000        409.000000         0.539216   \n",
       "75%      542.000000       12.000000        716.000000         0.608696   \n",
       "max      731.000000       23.000000       8474.000000         1.000000   \n",
       "\n",
       "       n_non_stop_words  n_non_stop_unique_tokens     num_hrefs  \\\n",
       "count      39644.000000              39644.000000  39644.000000   \n",
       "mean           0.970201                  0.672790     10.883690   \n",
       "std            0.170017                  0.154039     11.332017   \n",
       "min            0.000000                  0.000000      0.000000   \n",
       "25%            1.000000                  0.625720      4.000000   \n",
       "50%            1.000000                  0.690476      8.000000   \n",
       "75%            1.000000                  0.754620     14.000000   \n",
       "max            1.000000                  1.000000    304.000000   \n",
       "\n",
       "       num_self_hrefs      num_imgs  \n",
       "count    39644.000000  39644.000000  \n",
       "mean         3.293638      4.544143  \n",
       "std          3.855141      8.309434  \n",
       "min          0.000000      0.000000  \n",
       "25%          1.000000      1.000000  \n",
       "50%          3.000000      1.000000  \n",
       "75%          4.000000      4.000000  \n",
       "max        116.000000    128.000000  "
      ]
     },
     "execution_count": 28,
     "metadata": {},
     "output_type": "execute_result"
    }
   ],
   "source": [
    "#| echo: false\n",
    "data_num.iloc[:,0:10].describe()"
   ]
  },
  {
   "cell_type": "code",
   "execution_count": 29,
   "id": "6e4ad9ed",
   "metadata": {},
   "outputs": [
    {
     "data": {
      "text/html": [
       "<div>\n",
       "<style scoped>\n",
       "    .dataframe tbody tr th:only-of-type {\n",
       "        vertical-align: middle;\n",
       "    }\n",
       "\n",
       "    .dataframe tbody tr th {\n",
       "        vertical-align: top;\n",
       "    }\n",
       "\n",
       "    .dataframe thead th {\n",
       "        text-align: right;\n",
       "    }\n",
       "</style>\n",
       "<table border=\"1\" class=\"dataframe\">\n",
       "  <thead>\n",
       "    <tr style=\"text-align: right;\">\n",
       "      <th></th>\n",
       "      <th>num_videos</th>\n",
       "      <th>average_token_length</th>\n",
       "      <th>num_keywords</th>\n",
       "      <th>kw_min_min</th>\n",
       "      <th>kw_max_min</th>\n",
       "      <th>kw_avg_min</th>\n",
       "      <th>kw_min_max</th>\n",
       "      <th>kw_max_max</th>\n",
       "      <th>kw_avg_max</th>\n",
       "      <th>kw_min_avg</th>\n",
       "    </tr>\n",
       "  </thead>\n",
       "  <tbody>\n",
       "    <tr>\n",
       "      <th>count</th>\n",
       "      <td>39644.000000</td>\n",
       "      <td>39644.000000</td>\n",
       "      <td>39644.000000</td>\n",
       "      <td>39644.000000</td>\n",
       "      <td>39644.000000</td>\n",
       "      <td>39644.000000</td>\n",
       "      <td>39644.000000</td>\n",
       "      <td>39644.000000</td>\n",
       "      <td>39644.000000</td>\n",
       "      <td>39644.000000</td>\n",
       "    </tr>\n",
       "    <tr>\n",
       "      <th>mean</th>\n",
       "      <td>1.249874</td>\n",
       "      <td>4.548239</td>\n",
       "      <td>7.223767</td>\n",
       "      <td>26.106801</td>\n",
       "      <td>1153.951682</td>\n",
       "      <td>312.366967</td>\n",
       "      <td>13612.354102</td>\n",
       "      <td>752324.066694</td>\n",
       "      <td>259281.938083</td>\n",
       "      <td>1117.146610</td>\n",
       "    </tr>\n",
       "    <tr>\n",
       "      <th>std</th>\n",
       "      <td>4.107855</td>\n",
       "      <td>0.844406</td>\n",
       "      <td>1.909130</td>\n",
       "      <td>69.633215</td>\n",
       "      <td>3857.990877</td>\n",
       "      <td>620.783887</td>\n",
       "      <td>57986.029357</td>\n",
       "      <td>214502.129573</td>\n",
       "      <td>135102.247285</td>\n",
       "      <td>1137.456951</td>\n",
       "    </tr>\n",
       "    <tr>\n",
       "      <th>min</th>\n",
       "      <td>0.000000</td>\n",
       "      <td>0.000000</td>\n",
       "      <td>1.000000</td>\n",
       "      <td>-1.000000</td>\n",
       "      <td>0.000000</td>\n",
       "      <td>-1.000000</td>\n",
       "      <td>0.000000</td>\n",
       "      <td>0.000000</td>\n",
       "      <td>0.000000</td>\n",
       "      <td>-1.000000</td>\n",
       "    </tr>\n",
       "    <tr>\n",
       "      <th>25%</th>\n",
       "      <td>0.000000</td>\n",
       "      <td>4.478404</td>\n",
       "      <td>6.000000</td>\n",
       "      <td>-1.000000</td>\n",
       "      <td>445.000000</td>\n",
       "      <td>141.750000</td>\n",
       "      <td>0.000000</td>\n",
       "      <td>843300.000000</td>\n",
       "      <td>172846.875000</td>\n",
       "      <td>0.000000</td>\n",
       "    </tr>\n",
       "    <tr>\n",
       "      <th>50%</th>\n",
       "      <td>0.000000</td>\n",
       "      <td>4.664082</td>\n",
       "      <td>7.000000</td>\n",
       "      <td>-1.000000</td>\n",
       "      <td>660.000000</td>\n",
       "      <td>235.500000</td>\n",
       "      <td>1400.000000</td>\n",
       "      <td>843300.000000</td>\n",
       "      <td>244572.222223</td>\n",
       "      <td>1023.635611</td>\n",
       "    </tr>\n",
       "    <tr>\n",
       "      <th>75%</th>\n",
       "      <td>1.000000</td>\n",
       "      <td>4.854839</td>\n",
       "      <td>9.000000</td>\n",
       "      <td>4.000000</td>\n",
       "      <td>1000.000000</td>\n",
       "      <td>357.000000</td>\n",
       "      <td>7900.000000</td>\n",
       "      <td>843300.000000</td>\n",
       "      <td>330980.000000</td>\n",
       "      <td>2056.781032</td>\n",
       "    </tr>\n",
       "    <tr>\n",
       "      <th>max</th>\n",
       "      <td>91.000000</td>\n",
       "      <td>8.041534</td>\n",
       "      <td>10.000000</td>\n",
       "      <td>377.000000</td>\n",
       "      <td>298400.000000</td>\n",
       "      <td>42827.857143</td>\n",
       "      <td>843300.000000</td>\n",
       "      <td>843300.000000</td>\n",
       "      <td>843300.000000</td>\n",
       "      <td>3613.039819</td>\n",
       "    </tr>\n",
       "  </tbody>\n",
       "</table>\n",
       "</div>"
      ],
      "text/plain": [
       "         num_videos  average_token_length  num_keywords    kw_min_min  \\\n",
       "count  39644.000000          39644.000000  39644.000000  39644.000000   \n",
       "mean       1.249874              4.548239      7.223767     26.106801   \n",
       "std        4.107855              0.844406      1.909130     69.633215   \n",
       "min        0.000000              0.000000      1.000000     -1.000000   \n",
       "25%        0.000000              4.478404      6.000000     -1.000000   \n",
       "50%        0.000000              4.664082      7.000000     -1.000000   \n",
       "75%        1.000000              4.854839      9.000000      4.000000   \n",
       "max       91.000000              8.041534     10.000000    377.000000   \n",
       "\n",
       "          kw_max_min    kw_avg_min     kw_min_max     kw_max_max  \\\n",
       "count   39644.000000  39644.000000   39644.000000   39644.000000   \n",
       "mean     1153.951682    312.366967   13612.354102  752324.066694   \n",
       "std      3857.990877    620.783887   57986.029357  214502.129573   \n",
       "min         0.000000     -1.000000       0.000000       0.000000   \n",
       "25%       445.000000    141.750000       0.000000  843300.000000   \n",
       "50%       660.000000    235.500000    1400.000000  843300.000000   \n",
       "75%      1000.000000    357.000000    7900.000000  843300.000000   \n",
       "max    298400.000000  42827.857143  843300.000000  843300.000000   \n",
       "\n",
       "          kw_avg_max    kw_min_avg  \n",
       "count   39644.000000  39644.000000  \n",
       "mean   259281.938083   1117.146610  \n",
       "std    135102.247285   1137.456951  \n",
       "min         0.000000     -1.000000  \n",
       "25%    172846.875000      0.000000  \n",
       "50%    244572.222223   1023.635611  \n",
       "75%    330980.000000   2056.781032  \n",
       "max    843300.000000   3613.039819  "
      ]
     },
     "execution_count": 29,
     "metadata": {},
     "output_type": "execute_result"
    }
   ],
   "source": [
    "#| echo: false\n",
    "data_num.iloc[:,10:20].describe()"
   ]
  },
  {
   "cell_type": "code",
   "execution_count": 30,
   "id": "c09c6a76",
   "metadata": {},
   "outputs": [
    {
     "data": {
      "text/html": [
       "<div>\n",
       "<style scoped>\n",
       "    .dataframe tbody tr th:only-of-type {\n",
       "        vertical-align: middle;\n",
       "    }\n",
       "\n",
       "    .dataframe tbody tr th {\n",
       "        vertical-align: top;\n",
       "    }\n",
       "\n",
       "    .dataframe thead th {\n",
       "        text-align: right;\n",
       "    }\n",
       "</style>\n",
       "<table border=\"1\" class=\"dataframe\">\n",
       "  <thead>\n",
       "    <tr style=\"text-align: right;\">\n",
       "      <th></th>\n",
       "      <th>kw_max_avg</th>\n",
       "      <th>kw_avg_avg</th>\n",
       "      <th>self_reference_min_shares</th>\n",
       "      <th>self_reference_max_shares</th>\n",
       "      <th>self_reference_avg_sharess</th>\n",
       "      <th>lda_00</th>\n",
       "      <th>lda_01</th>\n",
       "      <th>lda_02</th>\n",
       "      <th>lda_03</th>\n",
       "      <th>lda_04</th>\n",
       "    </tr>\n",
       "  </thead>\n",
       "  <tbody>\n",
       "    <tr>\n",
       "      <th>count</th>\n",
       "      <td>39644.000000</td>\n",
       "      <td>39644.000000</td>\n",
       "      <td>39644.000000</td>\n",
       "      <td>39644.000000</td>\n",
       "      <td>39644.000000</td>\n",
       "      <td>39644.000000</td>\n",
       "      <td>39644.000000</td>\n",
       "      <td>39644.000000</td>\n",
       "      <td>39644.000000</td>\n",
       "      <td>39644.000000</td>\n",
       "    </tr>\n",
       "    <tr>\n",
       "      <th>mean</th>\n",
       "      <td>5657.211151</td>\n",
       "      <td>3135.858639</td>\n",
       "      <td>3998.755396</td>\n",
       "      <td>10329.212662</td>\n",
       "      <td>6401.697580</td>\n",
       "      <td>0.184599</td>\n",
       "      <td>0.141256</td>\n",
       "      <td>0.216321</td>\n",
       "      <td>0.223770</td>\n",
       "      <td>0.234029</td>\n",
       "    </tr>\n",
       "    <tr>\n",
       "      <th>std</th>\n",
       "      <td>6098.871957</td>\n",
       "      <td>1318.150397</td>\n",
       "      <td>19738.670516</td>\n",
       "      <td>41027.576613</td>\n",
       "      <td>24211.332231</td>\n",
       "      <td>0.262975</td>\n",
       "      <td>0.219707</td>\n",
       "      <td>0.282145</td>\n",
       "      <td>0.295191</td>\n",
       "      <td>0.289183</td>\n",
       "    </tr>\n",
       "    <tr>\n",
       "      <th>min</th>\n",
       "      <td>0.000000</td>\n",
       "      <td>0.000000</td>\n",
       "      <td>0.000000</td>\n",
       "      <td>0.000000</td>\n",
       "      <td>0.000000</td>\n",
       "      <td>0.000000</td>\n",
       "      <td>0.000000</td>\n",
       "      <td>0.000000</td>\n",
       "      <td>0.000000</td>\n",
       "      <td>0.000000</td>\n",
       "    </tr>\n",
       "    <tr>\n",
       "      <th>25%</th>\n",
       "      <td>3562.101631</td>\n",
       "      <td>2382.448566</td>\n",
       "      <td>639.000000</td>\n",
       "      <td>1100.000000</td>\n",
       "      <td>981.187500</td>\n",
       "      <td>0.025051</td>\n",
       "      <td>0.025012</td>\n",
       "      <td>0.028571</td>\n",
       "      <td>0.028571</td>\n",
       "      <td>0.028574</td>\n",
       "    </tr>\n",
       "    <tr>\n",
       "      <th>50%</th>\n",
       "      <td>4355.688836</td>\n",
       "      <td>2870.074878</td>\n",
       "      <td>1200.000000</td>\n",
       "      <td>2800.000000</td>\n",
       "      <td>2200.000000</td>\n",
       "      <td>0.033387</td>\n",
       "      <td>0.033345</td>\n",
       "      <td>0.040004</td>\n",
       "      <td>0.040001</td>\n",
       "      <td>0.040727</td>\n",
       "    </tr>\n",
       "    <tr>\n",
       "      <th>75%</th>\n",
       "      <td>6019.953968</td>\n",
       "      <td>3600.229564</td>\n",
       "      <td>2600.000000</td>\n",
       "      <td>8000.000000</td>\n",
       "      <td>5200.000000</td>\n",
       "      <td>0.240958</td>\n",
       "      <td>0.150831</td>\n",
       "      <td>0.334218</td>\n",
       "      <td>0.375763</td>\n",
       "      <td>0.399986</td>\n",
       "    </tr>\n",
       "    <tr>\n",
       "      <th>max</th>\n",
       "      <td>298400.000000</td>\n",
       "      <td>43567.659946</td>\n",
       "      <td>843300.000000</td>\n",
       "      <td>843300.000000</td>\n",
       "      <td>843300.000000</td>\n",
       "      <td>0.926994</td>\n",
       "      <td>0.925947</td>\n",
       "      <td>0.919999</td>\n",
       "      <td>0.926534</td>\n",
       "      <td>0.927191</td>\n",
       "    </tr>\n",
       "  </tbody>\n",
       "</table>\n",
       "</div>"
      ],
      "text/plain": [
       "          kw_max_avg    kw_avg_avg  self_reference_min_shares  \\\n",
       "count   39644.000000  39644.000000               39644.000000   \n",
       "mean     5657.211151   3135.858639                3998.755396   \n",
       "std      6098.871957   1318.150397               19738.670516   \n",
       "min         0.000000      0.000000                   0.000000   \n",
       "25%      3562.101631   2382.448566                 639.000000   \n",
       "50%      4355.688836   2870.074878                1200.000000   \n",
       "75%      6019.953968   3600.229564                2600.000000   \n",
       "max    298400.000000  43567.659946              843300.000000   \n",
       "\n",
       "       self_reference_max_shares  self_reference_avg_sharess        lda_00  \\\n",
       "count               39644.000000                39644.000000  39644.000000   \n",
       "mean                10329.212662                 6401.697580      0.184599   \n",
       "std                 41027.576613                24211.332231      0.262975   \n",
       "min                     0.000000                    0.000000      0.000000   \n",
       "25%                  1100.000000                  981.187500      0.025051   \n",
       "50%                  2800.000000                 2200.000000      0.033387   \n",
       "75%                  8000.000000                 5200.000000      0.240958   \n",
       "max                843300.000000               843300.000000      0.926994   \n",
       "\n",
       "             lda_01        lda_02        lda_03        lda_04  \n",
       "count  39644.000000  39644.000000  39644.000000  39644.000000  \n",
       "mean       0.141256      0.216321      0.223770      0.234029  \n",
       "std        0.219707      0.282145      0.295191      0.289183  \n",
       "min        0.000000      0.000000      0.000000      0.000000  \n",
       "25%        0.025012      0.028571      0.028571      0.028574  \n",
       "50%        0.033345      0.040004      0.040001      0.040727  \n",
       "75%        0.150831      0.334218      0.375763      0.399986  \n",
       "max        0.925947      0.919999      0.926534      0.927191  "
      ]
     },
     "execution_count": 30,
     "metadata": {},
     "output_type": "execute_result"
    }
   ],
   "source": [
    "#| echo: false\n",
    "data_num.iloc[:,20:30].describe()"
   ]
  },
  {
   "cell_type": "code",
   "execution_count": 31,
   "id": "63422568",
   "metadata": {},
   "outputs": [
    {
     "data": {
      "text/html": [
       "<div>\n",
       "<style scoped>\n",
       "    .dataframe tbody tr th:only-of-type {\n",
       "        vertical-align: middle;\n",
       "    }\n",
       "\n",
       "    .dataframe tbody tr th {\n",
       "        vertical-align: top;\n",
       "    }\n",
       "\n",
       "    .dataframe thead th {\n",
       "        text-align: right;\n",
       "    }\n",
       "</style>\n",
       "<table border=\"1\" class=\"dataframe\">\n",
       "  <thead>\n",
       "    <tr style=\"text-align: right;\">\n",
       "      <th></th>\n",
       "      <th>global_subjectivity</th>\n",
       "      <th>global_sentiment_polarity</th>\n",
       "      <th>global_rate_positive_words</th>\n",
       "      <th>global_rate_negative_words</th>\n",
       "      <th>rate_positive_words</th>\n",
       "      <th>rate_negative_words</th>\n",
       "      <th>avg_positive_polarity</th>\n",
       "      <th>min_positive_polarity</th>\n",
       "      <th>max_positive_polarity</th>\n",
       "      <th>avg_negative_polarity</th>\n",
       "    </tr>\n",
       "  </thead>\n",
       "  <tbody>\n",
       "    <tr>\n",
       "      <th>count</th>\n",
       "      <td>39644.000000</td>\n",
       "      <td>39644.000000</td>\n",
       "      <td>39644.000000</td>\n",
       "      <td>39644.000000</td>\n",
       "      <td>39644.000000</td>\n",
       "      <td>39644.000000</td>\n",
       "      <td>39644.000000</td>\n",
       "      <td>39644.000000</td>\n",
       "      <td>39644.000000</td>\n",
       "      <td>39644.000000</td>\n",
       "    </tr>\n",
       "    <tr>\n",
       "      <th>mean</th>\n",
       "      <td>0.443370</td>\n",
       "      <td>0.119309</td>\n",
       "      <td>0.039625</td>\n",
       "      <td>0.016612</td>\n",
       "      <td>0.682150</td>\n",
       "      <td>0.287934</td>\n",
       "      <td>0.353825</td>\n",
       "      <td>0.095446</td>\n",
       "      <td>0.756728</td>\n",
       "      <td>-0.259524</td>\n",
       "    </tr>\n",
       "    <tr>\n",
       "      <th>std</th>\n",
       "      <td>0.116685</td>\n",
       "      <td>0.096931</td>\n",
       "      <td>0.017429</td>\n",
       "      <td>0.010828</td>\n",
       "      <td>0.190206</td>\n",
       "      <td>0.156156</td>\n",
       "      <td>0.104542</td>\n",
       "      <td>0.071315</td>\n",
       "      <td>0.247786</td>\n",
       "      <td>0.127726</td>\n",
       "    </tr>\n",
       "    <tr>\n",
       "      <th>min</th>\n",
       "      <td>0.000000</td>\n",
       "      <td>-0.393750</td>\n",
       "      <td>0.000000</td>\n",
       "      <td>0.000000</td>\n",
       "      <td>0.000000</td>\n",
       "      <td>0.000000</td>\n",
       "      <td>0.000000</td>\n",
       "      <td>0.000000</td>\n",
       "      <td>0.000000</td>\n",
       "      <td>-1.000000</td>\n",
       "    </tr>\n",
       "    <tr>\n",
       "      <th>25%</th>\n",
       "      <td>0.396167</td>\n",
       "      <td>0.057757</td>\n",
       "      <td>0.028384</td>\n",
       "      <td>0.009615</td>\n",
       "      <td>0.600000</td>\n",
       "      <td>0.185185</td>\n",
       "      <td>0.306244</td>\n",
       "      <td>0.050000</td>\n",
       "      <td>0.600000</td>\n",
       "      <td>-0.328383</td>\n",
       "    </tr>\n",
       "    <tr>\n",
       "      <th>50%</th>\n",
       "      <td>0.453457</td>\n",
       "      <td>0.119117</td>\n",
       "      <td>0.039023</td>\n",
       "      <td>0.015337</td>\n",
       "      <td>0.710526</td>\n",
       "      <td>0.280000</td>\n",
       "      <td>0.358755</td>\n",
       "      <td>0.100000</td>\n",
       "      <td>0.800000</td>\n",
       "      <td>-0.253333</td>\n",
       "    </tr>\n",
       "    <tr>\n",
       "      <th>75%</th>\n",
       "      <td>0.508333</td>\n",
       "      <td>0.177832</td>\n",
       "      <td>0.050279</td>\n",
       "      <td>0.021739</td>\n",
       "      <td>0.800000</td>\n",
       "      <td>0.384615</td>\n",
       "      <td>0.411428</td>\n",
       "      <td>0.100000</td>\n",
       "      <td>1.000000</td>\n",
       "      <td>-0.186905</td>\n",
       "    </tr>\n",
       "    <tr>\n",
       "      <th>max</th>\n",
       "      <td>1.000000</td>\n",
       "      <td>0.727841</td>\n",
       "      <td>0.155488</td>\n",
       "      <td>0.184932</td>\n",
       "      <td>1.000000</td>\n",
       "      <td>1.000000</td>\n",
       "      <td>1.000000</td>\n",
       "      <td>1.000000</td>\n",
       "      <td>1.000000</td>\n",
       "      <td>0.000000</td>\n",
       "    </tr>\n",
       "  </tbody>\n",
       "</table>\n",
       "</div>"
      ],
      "text/plain": [
       "       global_subjectivity  global_sentiment_polarity  \\\n",
       "count         39644.000000               39644.000000   \n",
       "mean              0.443370                   0.119309   \n",
       "std               0.116685                   0.096931   \n",
       "min               0.000000                  -0.393750   \n",
       "25%               0.396167                   0.057757   \n",
       "50%               0.453457                   0.119117   \n",
       "75%               0.508333                   0.177832   \n",
       "max               1.000000                   0.727841   \n",
       "\n",
       "       global_rate_positive_words  global_rate_negative_words  \\\n",
       "count                39644.000000                39644.000000   \n",
       "mean                     0.039625                    0.016612   \n",
       "std                      0.017429                    0.010828   \n",
       "min                      0.000000                    0.000000   \n",
       "25%                      0.028384                    0.009615   \n",
       "50%                      0.039023                    0.015337   \n",
       "75%                      0.050279                    0.021739   \n",
       "max                      0.155488                    0.184932   \n",
       "\n",
       "       rate_positive_words  rate_negative_words  avg_positive_polarity  \\\n",
       "count         39644.000000         39644.000000           39644.000000   \n",
       "mean              0.682150             0.287934               0.353825   \n",
       "std               0.190206             0.156156               0.104542   \n",
       "min               0.000000             0.000000               0.000000   \n",
       "25%               0.600000             0.185185               0.306244   \n",
       "50%               0.710526             0.280000               0.358755   \n",
       "75%               0.800000             0.384615               0.411428   \n",
       "max               1.000000             1.000000               1.000000   \n",
       "\n",
       "       min_positive_polarity  max_positive_polarity  avg_negative_polarity  \n",
       "count           39644.000000           39644.000000           39644.000000  \n",
       "mean                0.095446               0.756728              -0.259524  \n",
       "std                 0.071315               0.247786               0.127726  \n",
       "min                 0.000000               0.000000              -1.000000  \n",
       "25%                 0.050000               0.600000              -0.328383  \n",
       "50%                 0.100000               0.800000              -0.253333  \n",
       "75%                 0.100000               1.000000              -0.186905  \n",
       "max                 1.000000               1.000000               0.000000  "
      ]
     },
     "execution_count": 31,
     "metadata": {},
     "output_type": "execute_result"
    }
   ],
   "source": [
    "#| echo: false\n",
    "data_num.iloc[:,30:40].describe()"
   ]
  },
  {
   "cell_type": "code",
   "execution_count": 34,
   "id": "a392ee45",
   "metadata": {},
   "outputs": [
    {
     "data": {
      "text/html": [
       "<div>\n",
       "<style scoped>\n",
       "    .dataframe tbody tr th:only-of-type {\n",
       "        vertical-align: middle;\n",
       "    }\n",
       "\n",
       "    .dataframe tbody tr th {\n",
       "        vertical-align: top;\n",
       "    }\n",
       "\n",
       "    .dataframe thead th {\n",
       "        text-align: right;\n",
       "    }\n",
       "</style>\n",
       "<table border=\"1\" class=\"dataframe\">\n",
       "  <thead>\n",
       "    <tr style=\"text-align: right;\">\n",
       "      <th></th>\n",
       "      <th>min_negative_polarity</th>\n",
       "      <th>max_negative_polarity</th>\n",
       "      <th>title_subjectivity</th>\n",
       "      <th>title_sentiment_polarity</th>\n",
       "      <th>abs_title_subjectivity</th>\n",
       "      <th>abs_title_sentiment_polarity</th>\n",
       "    </tr>\n",
       "  </thead>\n",
       "  <tbody>\n",
       "    <tr>\n",
       "      <th>count</th>\n",
       "      <td>39644.000000</td>\n",
       "      <td>39644.000000</td>\n",
       "      <td>39644.000000</td>\n",
       "      <td>39644.000000</td>\n",
       "      <td>39644.000000</td>\n",
       "      <td>39644.000000</td>\n",
       "    </tr>\n",
       "    <tr>\n",
       "      <th>mean</th>\n",
       "      <td>-0.521944</td>\n",
       "      <td>-0.107500</td>\n",
       "      <td>0.282353</td>\n",
       "      <td>0.071425</td>\n",
       "      <td>0.341843</td>\n",
       "      <td>0.156064</td>\n",
       "    </tr>\n",
       "    <tr>\n",
       "      <th>std</th>\n",
       "      <td>0.290290</td>\n",
       "      <td>0.095373</td>\n",
       "      <td>0.324247</td>\n",
       "      <td>0.265450</td>\n",
       "      <td>0.188791</td>\n",
       "      <td>0.226294</td>\n",
       "    </tr>\n",
       "    <tr>\n",
       "      <th>min</th>\n",
       "      <td>-1.000000</td>\n",
       "      <td>-1.000000</td>\n",
       "      <td>0.000000</td>\n",
       "      <td>-1.000000</td>\n",
       "      <td>0.000000</td>\n",
       "      <td>0.000000</td>\n",
       "    </tr>\n",
       "    <tr>\n",
       "      <th>25%</th>\n",
       "      <td>-0.700000</td>\n",
       "      <td>-0.125000</td>\n",
       "      <td>0.000000</td>\n",
       "      <td>0.000000</td>\n",
       "      <td>0.166667</td>\n",
       "      <td>0.000000</td>\n",
       "    </tr>\n",
       "    <tr>\n",
       "      <th>50%</th>\n",
       "      <td>-0.500000</td>\n",
       "      <td>-0.100000</td>\n",
       "      <td>0.150000</td>\n",
       "      <td>0.000000</td>\n",
       "      <td>0.500000</td>\n",
       "      <td>0.000000</td>\n",
       "    </tr>\n",
       "    <tr>\n",
       "      <th>75%</th>\n",
       "      <td>-0.300000</td>\n",
       "      <td>-0.050000</td>\n",
       "      <td>0.500000</td>\n",
       "      <td>0.150000</td>\n",
       "      <td>0.500000</td>\n",
       "      <td>0.250000</td>\n",
       "    </tr>\n",
       "    <tr>\n",
       "      <th>max</th>\n",
       "      <td>0.000000</td>\n",
       "      <td>0.000000</td>\n",
       "      <td>1.000000</td>\n",
       "      <td>1.000000</td>\n",
       "      <td>0.500000</td>\n",
       "      <td>1.000000</td>\n",
       "    </tr>\n",
       "  </tbody>\n",
       "</table>\n",
       "</div>"
      ],
      "text/plain": [
       "       min_negative_polarity  max_negative_polarity  title_subjectivity  \\\n",
       "count           39644.000000           39644.000000        39644.000000   \n",
       "mean               -0.521944              -0.107500            0.282353   \n",
       "std                 0.290290               0.095373            0.324247   \n",
       "min                -1.000000              -1.000000            0.000000   \n",
       "25%                -0.700000              -0.125000            0.000000   \n",
       "50%                -0.500000              -0.100000            0.150000   \n",
       "75%                -0.300000              -0.050000            0.500000   \n",
       "max                 0.000000               0.000000            1.000000   \n",
       "\n",
       "       title_sentiment_polarity  abs_title_subjectivity  \\\n",
       "count              39644.000000            39644.000000   \n",
       "mean                   0.071425                0.341843   \n",
       "std                    0.265450                0.188791   \n",
       "min                   -1.000000                0.000000   \n",
       "25%                    0.000000                0.166667   \n",
       "50%                    0.000000                0.500000   \n",
       "75%                    0.150000                0.500000   \n",
       "max                    1.000000                0.500000   \n",
       "\n",
       "       abs_title_sentiment_polarity  \n",
       "count                  39644.000000  \n",
       "mean                       0.156064  \n",
       "std                        0.226294  \n",
       "min                        0.000000  \n",
       "25%                        0.000000  \n",
       "50%                        0.000000  \n",
       "75%                        0.250000  \n",
       "max                        1.000000  "
      ]
     },
     "execution_count": 34,
     "metadata": {},
     "output_type": "execute_result"
    }
   ],
   "source": [
    "#| echo: false\n",
    "data_num.iloc[:,40:46].describe()"
   ]
  },
  {
   "cell_type": "markdown",
   "id": "1d5edef7",
   "metadata": {},
   "source": [
    "When plotting the distributions of each predictor for our EDA, as will be shown in the next section, three were found to contain an error; while those predictors were all rates of specific occurrences and thus lay in the range of 0 to 1, the errant observation had values in the hundreds. Thus, we believed that the article’s information was input as the counts of the occurrences described by the predictors rather than the rates.\n",
    "\n",
    "Based on the definition of the three predictors, we imputed the correct values of the observation by dividing the original values by the total word count of the article. Aside from that observation, the data was already cleaned and split into dummy variables."
   ]
  },
  {
   "cell_type": "markdown",
   "id": "9d04c25c",
   "metadata": {},
   "source": [
    "There was a variable `timedelta` that described the number of days each article had been published for. Because it is not a variable that can be determined before publication, we decided it could not be used for our analysis. However, it is also very related to our response because the number of shares an article receives is related to the age of the article; after all, an article that has been published for a long time has a greater chance of accumulating shares. Thus, we created a new response variable, `avg_shares_per_day`, where we divided each article’s original number of shares by the number of days it was out for.\n",
    "Using this new response variable, we created a binary classification variable called `popular`. If an article’s average shares per day was greater than the dataset’s median, it was considered popular; otherwise, it was not. \n",
    "\n",
    "We also performed variable selection using CatBoost. We fit the training data to a CatBoost classifier model with default hyperparameters and kept the top 80% of predictors in regards to feature importance. \n"
   ]
  },
  {
   "cell_type": "markdown",
   "id": "fbb11c9b",
   "metadata": {},
   "source": [
    "## Exploratory data analysis"
   ]
  },
  {
   "cell_type": "markdown",
   "id": "2aac698c",
   "metadata": {},
   "source": [
    "EDA for this project helped both inform our decisions on how we would use both the response variables and the numerous predictors.\n",
    "\n",
    "Our EDA first is used to separate continuous and categorical variables, which wasn’t always clear from the description of variables that the original dataset provided (like hidden categorical variables). We plotted every variable as a barplot, and once those graphs were plotted it was more clear which predictors were categorical (less bars as they focus more on categories. \n",
    "\n",
    "Second, we plotted the distribution of the response variable in its original state, shares. It showed an extreme left-skewed distribution, with only one or two outliers near the outer ranges of the range. This we hypothesized was due to the response variable not taking into account that one of the predictors, timedelta or time change, increases linearly like shares would over time, logically. Thus, we had looked to log this initially until we altered the response variable completely by dividing shares with timedelta, creating a much more uniform distribution. \n",
    "\n",
    "Third, we plotted the distribution of categorical predictors we found using barplots and the continuous predictors with boxplots, which we used to see if there were any extreme outliers. \n",
    "\n",
    "Finally, we plotted every predictor against the original response variable, shares, in order to see if, again, there were any abnormalities in the observations. Here, we found that there were 3 particular variables that seemed odd. ‘n_unique_tokens’, ‘n_non_stop_words’,  ‘n_non_stop_unique_tokens’, were all rate-based predictors, with almost all observations falling in between 0 and 1. However, there was a unique observation in all 3, around 700, which doesn;t make sense for a rate-based predictor. "
   ]
  },
  {
   "cell_type": "code",
   "execution_count": 21,
   "id": "40fda10a",
   "metadata": {},
   "outputs": [
    {
     "data": {
      "image/png": "[encoded data removed]",
      "text/plain": [
       "<Figure size 432x288 with 1 Axes>"
      ]
     },
     "metadata": {
      "needs_background": "light"
     },
     "output_type": "display_data"
    }
   ],
   "source": [
    "#| echo: false\n",
    "clean = OnlineNewsPopularity.drop(['url'], axis = 1)\n",
    "response_clean = clean[' shares']\n",
    "sns.kdeplot(response_clean, fill=True, bw_method = .1);"
   ]
  },
  {
   "cell_type": "code",
   "execution_count": 18,
   "id": "14a59729",
   "metadata": {},
   "outputs": [
    {
     "data": {
      "image/png": "[encoded data removed]",
      "text/plain": [
       "<Figure size 432x288 with 1 Axes>"
      ]
     },
     "metadata": {
      "needs_background": "light"
     },
     "output_type": "display_data"
    },
    {
     "data": {
      "image/png": "[encoded data removed]",
      "text/plain": [
       "<Figure size 432x288 with 1 Axes>"
      ]
     },
     "metadata": {
      "needs_background": "light"
     },
     "output_type": "display_data"
    },
    {
     "data": {
      "image/png": "[encoded data removed]",
      "text/plain": [
       "<Figure size 432x288 with 1 Axes>"
      ]
     },
     "metadata": {
      "needs_background": "light"
     },
     "output_type": "display_data"
    }
   ],
   "source": [
    "#| echo: false\n",
    "cleaned = OnlineNewsPopularity.drop(['url'], axis = 1)\n",
    "bad_tokens = cleaned.loc[:, [' n_unique_tokens', ' n_non_stop_words',  ' n_non_stop_unique_tokens', ' shares']]\n",
    "\n",
    "for x in bad_tokens.columns:\n",
    "    if x != ' shares':\n",
    "        sns.regplot(x= x, y = ' shares', data = bad_tokens);\n",
    "        plt.show()"
   ]
  },
  {
   "cell_type": "markdown",
   "id": "7e74cb5f",
   "metadata": {},
   "source": [
    "We realized this may have been a  the observation may have been mis-observed or mislabeled, examining the true value instead of examining it as a rate. Thus, we solved this by simply dividing the observation by the total number of tokens and words later in data cleaning, which made these values rates again, which makes more sense in terms of the data."
   ]
  },
  {
   "cell_type": "code",
   "execution_count": 25,
   "id": "ab15a541",
   "metadata": {},
   "outputs": [
    {
     "data": {
      "image/png": "[encoded data removed]",
      "text/plain": [
       "<Figure size 432x288 with 1 Axes>"
      ]
     },
     "metadata": {
      "needs_background": "light"
     },
     "output_type": "display_data"
    },
    {
     "data": {
      "image/png": "[encoded data removed]",
      "text/plain": [
       "<Figure size 432x288 with 1 Axes>"
      ]
     },
     "metadata": {
      "needs_background": "light"
     },
     "output_type": "display_data"
    },
    {
     "data": {
      "image/png": "[encoded data removed]",
      "text/plain": [
       "<Figure size 432x288 with 1 Axes>"
      ]
     },
     "metadata": {
      "needs_background": "light"
     },
     "output_type": "display_data"
    }
   ],
   "source": [
    "#| echo: false\n",
    "good_tokens = data.loc[:, ['n_unique_tokens', 'n_non_stop_words', 'n_non_stop_unique_tokens', 'shares']]\n",
    "\n",
    "for x in good_tokens.columns:\n",
    "    if x != 'shares':\n",
    "        sns.regplot(x= x, y = 'shares', data = good_tokens);\n",
    "        plt.show()"
   ]
  },
  {
   "cell_type": "markdown",
   "id": "d39c782c",
   "metadata": {},
   "source": [
    "## Approach"
   ]
  },
  {
   "cell_type": "markdown",
   "id": "c562f118",
   "metadata": {},
   "source": [
    "We used a number of binary classification models: Ridge/Lasso, Decision trees, Bagged models, Random Forest, Adaboost, Gradient Boosting, XGBoost, LightGBM, and Catboost. \n",
    "\n",
    "We chose to optimize accuracy and precision, though we focused primarily on precision by setting an accuracy threshold and finding the model with the best precision amongst the values that pass the accuracy threshold.  Writers most likely want to avoid investing time and effort into trying to create an article that goes unread, which corresponds to a false positive. Thus, we thought it was best to use precision as our primary performance metric. No particularly unorthodox methods were used."
   ]
  },
  {
   "cell_type": "markdown",
   "id": "17d55501",
   "metadata": {},
   "source": [
    "We initially attempted to approach this project as a regression problem. We saw that this dataset had been used for classification before, so we wanted to see how well the number of shares could be predicted. While we anticipated that regression would not perform as well as binary classification, it was even more difficult than we expected to lower the RMSE from the base models, regardless of how thoroughly we tuned individual models. \n",
    "\n",
    "It is possible that the response variable is not thoroughly explained by the predictors; popularity of writing in general is always hard to predict because there are always articles that \"should\" be popular but end up receiving little attention. Such factors could include the time of day during which the article was published, website algorithms that could promote certain articles based on current events, or most significantly, the whimsicality of human nature—none of which are encapsulated by the dataset. "
   ]
  },
  {
   "cell_type": "markdown",
   "id": "20ae4ab8",
   "metadata": {},
   "source": [
    "Whereas existing Kaggle solutions tend to approach this problem as a binary classification of popularity based on total shares (our original dataset), we decided to define popularity as the average shares an article received per day, as described above (our modified dataset). Thus, we did not build upon existing solutions, and it is difficult to compare results, as the responses are different. However, we believe our definition is more in line with the wishes of our stakeholders, as time is a predictor that naturally increases shares."
   ]
  },
  {
   "cell_type": "markdown",
   "id": "acab331a",
   "metadata": {},
   "source": [
    "## Developing the model: Hyperparameter tuning"
   ]
  },
  {
   "cell_type": "markdown",
   "id": "ae5ec4c9",
   "metadata": {},
   "source": [
    "Every person must describe their hyperparameter tuning procedure. Show the grid of hyperparameter values over which the initial search was done *(you may paste your grid search / random search / any other search code)*, and the optimal hyperparameter values obtained. After getting the initial search results, how did you make decisions *(if any)* to further fine-tune your model. Did you do another grid / random search or did you tune hyperparameters sequentially? If you think you didn't need any fine tuning after the initial results, then mention that and explain why.\n",
    "\n",
    "Put each model in a section of its name and mention the name of the team-member tuning the model. Below is an example:"
   ]
  },
  {
   "cell_type": "markdown",
   "id": "ea422beb",
   "metadata": {},
   "source": [
    "### Adaboost, LightBGM, & Catboost\n",
    "*By Daniel He*"
   ]
  },
  {
   "cell_type": "markdown",
   "id": "38a5e86f",
   "metadata": {},
   "source": [
    "Regarding Adaboost, the base model was not accurate at all compared to some of our other base models, with accuracy only reaching around 0.660865 and precision only around 0.656234. Due to our project’s circumstances and tight deadline, I tuned hyperparameters solely with a few grids and light hand-tuning. I tuned with this grid first: \n"
   ]
  },
  {
   "cell_type": "code",
   "execution_count": null,
   "id": "b7267bc6",
   "metadata": {},
   "outputs": [],
   "source": [
    "grid['n_estimators'] = [10, 50, 100,200,500, 1000]\n",
    "grid['learning_rate'] = [0.001, 0.01,0.1, 0.5, 1.0]\n",
    "grid['base_estimator'] = [DecisionTreeClassifier(max_depth=1), DecisionTreeClassifier(max_depth=10), DecisionTreeClassifier(max_depth=15),DecisionTreeClassifier(max_depth=20)]"
   ]
  },
  {
   "cell_type": "markdown",
   "id": "a19bf4b8",
   "metadata": {},
   "source": [
    "With that initial grid, both accuracy and precision jumped a lot, with accuracy increasing to 0.742212, and precision increasing to 0.723581 with base_estimator=DecisionTreeClassifier(max_depth=10), learning_rate=0.01, random_state = 1, n_estimators=1000. Further grids, where I focused in on all hyperparameters, didn't do much for accuracy and precision, so I began tuning hyperparameters sequentially, starting with ‘n_estimators’. After tuning this parameter only with the grid: "
   ]
  },
  {
   "cell_type": "code",
   "execution_count": null,
   "id": "4c21c949",
   "metadata": {},
   "outputs": [],
   "source": [
    "grid[‘n_estimators’] = [90, 100, 150, 200, 250, 300, 350, 400]"
   ]
  },
  {
   "cell_type": "markdown",
   "id": "a58be12e",
   "metadata": {},
   "source": [
    "I then found that 100 was the closest to the most ideal ‘n_estimators’ hyperparameter, which gave the highest accuracy and precision, with accuracy =  0.750536 and precision = 0.730106 from final hyperparameters being:"
   ]
  },
  {
   "cell_type": "code",
   "execution_count": null,
   "id": "3ecd5f3f",
   "metadata": {},
   "outputs": [],
   "source": [
    "AdaBoostClassifier(base_estimator=DecisionTreeClassifier(max_depth=10), learning_rate=0.01, \n",
    "                   random_state = 1, n_estimators=100).fit(X_train_scaled, y_train)"
   ]
  },
  {
   "cell_type": "markdown",
   "id": "80f575cc",
   "metadata": {},
   "source": [
    "I then began tuning for the ideal threshold, using cross_val_score with 2-fold to save on computation time, to find that 0.61 was approximately the ideal threshold, which further increased both accuracy and precision, so accuracy = 0.7674359 and precision = 0.7976564. Train test and accuracy were both around 0.84 to 0.86, so this model didn’t overfit the training data as much as some of the other tree-based models."
   ]
  },
  {
   "cell_type": "markdown",
   "id": "d460091e",
   "metadata": {},
   "source": [
    "I followed this similar procedure for LightGBM, for which I first tuned hyperparameters on:"
   ]
  },
  {
   "cell_type": "code",
   "execution_count": null,
   "id": "75751d91",
   "metadata": {},
   "outputs": [],
   "source": [
    "param_grid = {'max_depth': [4,6,8],\n",
    "              'num_leaves': [20, 31, 40],\n",
    "              'learning_rate': [0.01, 0.05, 0.1],\n",
    "               'reg_lambda':[0, 10, 100],\n",
    "                'n_estimators':[100, 500, 1000],\n",
    "                'reg_alpha': [0, 10, 100],\n",
    "                'subsample': [0.5, 0.75, 1.0]}"
   ]
  },
  {
   "cell_type": "markdown",
   "id": "e3de0f9f",
   "metadata": {},
   "source": [
    "This increased both accuracy and precision by approximately 0.01, to which I further hand-tuned ‘n_estimators’ to 2000 estimators, but hand tuning other hyperparameters tuned did not improve performance."
   ]
  },
  {
   "cell_type": "markdown",
   "id": "5b7bcdb8",
   "metadata": {},
   "source": [
    "This increased both accuracy and precision to 0.77033 and 0.7598716 approximately. Then, I tuned for threshold, finding that 0.56 maximizes both accuracy and precision, 0.770967 and 0.786587 respectively, though precision was increased more dramatically by almost 3%. "
   ]
  },
  {
   "cell_type": "markdown",
   "id": "96084d04",
   "metadata": {},
   "source": [
    "For Catboost, since it is so accurate from default hyperparameters already, I focused mainly on tuning for decision threshold. Here, I found that 0.52 has the best balance between accuracy and threshold without significantly compromising one or the other, increasing accuracy from 0.77109345 to 0.7717241 and precision from 0.76242545 to 0.7709239. "
   ]
  },
  {
   "cell_type": "markdown",
   "id": "b78fbd0e",
   "metadata": {},
   "source": [
    "### Random forest, Gradient boosting, & XGBoost\n",
    "*By Sarah Hsu*"
   ]
  },
  {
   "cell_type": "markdown",
   "id": "e991e2f3",
   "metadata": {},
   "source": [
    "The base model for a random forest classifier yielded a test accuracy of 0.7567 and a precision of  0.7387. Due to our project’s circumstances and tight deadline, I tuned hyperparameters solely with grids. After standardizing the predictors, I first used the coarse tuning grid below:"
   ]
  },
  {
   "cell_type": "code",
   "execution_count": null,
   "id": "f377fdee",
   "metadata": {},
   "outputs": [],
   "source": [
    "params = {'n_estimators': [250, 500, 750],\n",
    "          'max_depth':[10, 15, 20, 25],\n",
    "         'min_samples_split': [5, 10, 20, 40]}"
   ]
  },
  {
   "cell_type": "markdown",
   "id": "afeca541",
   "metadata": {},
   "source": [
    "After running through the first tuning grid of my random forest model, I noticed that both accuracy and precision seemed to continue to increase past the tested range of max depth. Therefore, I did another grid search with a range of max depth that had greater values, shown below. I also narrowed the range for min samples split to test the values closer to the optimal value of 5 from the first grid."
   ]
  },
  {
   "cell_type": "code",
   "execution_count": null,
   "id": "4d3d7466",
   "metadata": {},
   "outputs": [],
   "source": [
    "params = {'n_estimators': [500, 750, 1000],\n",
    "          'max_depth':[25, 30, 35],\n",
    "         'min_samples_split': [3, 5, 6, 7]}"
   ]
  },
  {
   "cell_type": "markdown",
   "id": "9bc0277b",
   "metadata": {},
   "source": [
    "My best parameters were a max depth of 35, a min sample split of 6, and 750 estimators. Then, I tested for the optimal threshold, holding accuracy at a minimum of 0.75 and identifying the threshold value that would return the highest precision. A decision threshold of 0.61 returned a test accuracy of 0.7566 and precision of 0.8045. In comparison to the base model, the accuracy is about the same, and the precision has increased after hyperparameter tuning."
   ]
  },
  {
   "cell_type": "markdown",
   "id": "22eb6dbd",
   "metadata": {},
   "source": [
    "The gradient boosting base model had slightly better performance than the random forest model, with an accuracy of 0.7618 and a precision of 0.7444. For my first tuning grid, I used a randomized search because of the greater amount of time it takes. "
   ]
  },
  {
   "cell_type": "code",
   "execution_count": null,
   "id": "e0116cf7",
   "metadata": {},
   "outputs": [],
   "source": [
    "params = {'n_estimators': [500, 750, 1000],\n",
    "          'learning_rate':[0.01, 0.1, 1.0],\n",
    "          'max_depth':[2, 5, 10],\n",
    "         'min_samples_split': [2, 5, 8],\n",
    "         'subsample':[0.25, 0.5, 0.75, 1.0]}"
   ]
  },
  {
   "cell_type": "markdown",
   "id": "83d7fe89",
   "metadata": {},
   "source": [
    "I noticed that a large learning rate was detrimental to model performance and that there seemed to be an increase in model performance with high max depth, though a much slighter one than observed with a random forest model. As a result, for a finer tuning grid, the values for model depth were increased slightly. I also narrowed down the values for both learning rate and subsample, as shown below."
   ]
  },
  {
   "cell_type": "code",
   "execution_count": null,
   "id": "0e74e763",
   "metadata": {},
   "outputs": [],
   "source": [
    "params = {'n_estimators': [500, 750, 1000],\n",
    "          'learning_rate':[0.01, 0.05, 0.1],\n",
    "          'max_depth':[8, 10, 12],\n",
    "         'min_samples_split': [2, 5, 8],\n",
    "         'subsample':[0.5, 0.6, 0.7, 0.8]}"
   ]
  },
  {
   "cell_type": "markdown",
   "id": "3fe5220b",
   "metadata": {},
   "source": [
    "The best hyperparameters were a subsample of 0.6, 750 estimators, a minimum sample split of 5, a max depth of 10, and a learning rate of 0.01. I then found that the optimal decision threshold, holding the minimum accuracy at a level similar to the base model, was 0.6, which led to a slightly increased test accuracy of 0.7684 and a more greatly increased precision of 0.7938."
   ]
  },
  {
   "cell_type": "markdown",
   "id": "13cc53c8",
   "metadata": {},
   "source": [
    "Finally, a similar procedure was followed for XGBoost; the base model accuracy was 0.7655, and the precision was 0.7561. I used 3 cross-validation folds to save computation time, along with a randomized search using the grid below:"
   ]
  },
  {
   "cell_type": "code",
   "execution_count": null,
   "id": "7e4d0472",
   "metadata": {},
   "outputs": [],
   "source": [
    "param_grid = {'n_estimators':[500, 1000, 2000],\n",
    "         'learning_rate': [0.01, 0.1, 1.0],\n",
    "         'max_depth': [2, 6, 10],\n",
    "         'subsample': [0.25, 0.5, 0.75, 1.0],\n",
    "         'gamma': [0, 10],\n",
    "         'reg_lambda':[0, 1, 10]}"
   ]
  },
  {
   "cell_type": "markdown",
   "id": "91abcea0",
   "metadata": {},
   "source": [
    "Just like with gradient boosting, my second grid increased max depth slightly and narrowed down the search for learning rate. In addition, the range of subsample values was restricted to values closer to 1.0 as well, obtaining the grid below:"
   ]
  },
  {
   "cell_type": "code",
   "execution_count": null,
   "id": "d0c4fd78",
   "metadata": {},
   "outputs": [],
   "source": [
    "param_grid = {'n_estimators':[500, 1000, 2000],\n",
    "         'learning_rate': [0.005, 0.01, 0.05],\n",
    "         'max_depth': [8, 10, 12],\n",
    "         'subsample': [0.6, 0.8, 1.0],\n",
    "         'gamma': [0, 10],\n",
    "         'reg_lambda':[0, 1, 10]}"
   ]
  },
  {
   "cell_type": "markdown",
   "id": "3957e0f3",
   "metadata": {},
   "source": [
    "The optimal decision threshold for XGBoost was 0.65, which resulted in a test accuracy of 0.7640 and a test precision of 0.8183, exchanging a decrease of 0.0015 in accuracy for an increase of 0.0622 in precision."
   ]
  },
  {
   "cell_type": "markdown",
   "id": "32c2c180",
   "metadata": {},
   "source": [
    "While all three of my models’ performance on the test data matches the expectations set by their cross-validation performance, they greatly overfit the training data, which yielded accuracies and precisions ranging from 89% to 99%. One possibility  could possibly be due to the fact that our feature selection is based on the training data’s feature importance. However, there would be no other way to use feature importance for feature selection, as test data must be set aside and left untouched until making the final predictions."
   ]
  },
  {
   "cell_type": "markdown",
   "id": "2916849c",
   "metadata": {},
   "source": [
    "### Ridge/Lasso and Bagging\n",
    "*By Gemily Wang*"
   ]
  },
  {
   "cell_type": "markdown",
   "id": "37f552ef",
   "metadata": {},
   "source": [
    "### Decision Tree\n",
    "*By Anika Kaura*"
   ]
  },
  {
   "cell_type": "markdown",
   "id": "be2594f1",
   "metadata": {},
   "source": [
    "## Model Ensemble "
   ]
  },
  {
   "cell_type": "markdown",
   "id": "fa68b0a5",
   "metadata": {},
   "source": [
    "Put the results of enembling individual models. Feel free to add subsections in this section to add more innovative ensembling methods."
   ]
  },
  {
   "cell_type": "markdown",
   "id": "66c5924a",
   "metadata": {},
   "source": [
    "### Voting ensemble"
   ]
  },
  {
   "cell_type": "markdown",
   "id": "78a31cb2",
   "metadata": {},
   "source": [
    "The simplest voting ensemble will be the model where all models have equal weights.\n",
    "\n",
    "You may come up with innovative methods of estimating weights of the individual models, such as based on their cross-val error. Sometimes, these methods may work better than stacking ensembles, as stacking ensembles tend to overfit."
   ]
  },
  {
   "cell_type": "markdown",
   "id": "bcff4cda",
   "metadata": {},
   "source": [
    "### Stacking ensemble\n",
    "Try out different models as the metamodel. You may split work as follows. The person who worked on certain types of models *(say AdaBoost and MARS)* also uses those models as a metamodel in the stacking ensemble."
   ]
  },
  {
   "cell_type": "markdown",
   "id": "2b22a5f3",
   "metadata": {},
   "source": [
    "### Ensemble of ensembled models\n",
    "\n",
    "If you are creating multiple stacking ensembles *(based on different metamodels)*, you may ensemble them."
   ]
  },
  {
   "cell_type": "markdown",
   "id": "36fe5f5f",
   "metadata": {},
   "source": [
    "### Innovative ensembling methods\n",
    "*(Optional)*\n",
    "\n",
    "Some models may do better on certain subsets of the predictor space. You may find that out, and given a data point, choose the model(s) that will best predict for that data point. This is similar to the idea of developing a decision tree metamodel. However, decision tree is prone to overfitting.\n",
    "\n",
    "Another idea may be to correct the individual models with the intercept and slope *(note the tree-based models don't have an intercept and may suffer from a constant bias)*, and then ensemble them. This is equivalent to having a simple linear regression meta-model for each of the individual models, and then ensembling the meta-models with a meta-metamodel or a voting ensemble."
   ]
  },
  {
   "cell_type": "markdown",
   "id": "1b46343d",
   "metadata": {},
   "source": [
    "## Limitations of the model with regard to prediction"
   ]
  },
  {
   "cell_type": "markdown",
   "id": "b36cedc4",
   "metadata": {},
   "source": [
    "One of the largest limitations to our model is that one of the key predictors of article shares is missing from the dataset overall: whether it is breaking news or not. This was one of the issues we hypothesized early, as people will flock to and share breaking news no matter what other topics are, so without that variable there would always be a significant missing predictor. This predictor is very subjective in nature and that is likely the reason why it wasn’t included in our dataset, but it is likely the key issue with predicting probability – in essence, our X-factor. "
   ]
  },
  {
   "cell_type": "markdown",
   "id": "3b774f79",
   "metadata": {},
   "source": [
    "Due to the nature of the dataset, we switched our problem from one of regression to one of classification. As a result, the time limit set on this project did not allow us to tune our hyperparameter values as thoroughly as we had liked. However, given the trajectories of our improvement with the hyperparameter values we were able to test, it is doubtful that further tuning would have improved the models significantly. \n",
    "\n",
    "In addition, there was the problem of overfitting on training data; perhaps given more time, we could have addressed this issue, though it may have not been because of our hyperparameter values, as it seemed more like the training data was fit too well than the test data was fit too poorly."
   ]
  },
  {
   "cell_type": "markdown",
   "id": "9db590ec",
   "metadata": {},
   "source": [
    "It is not difficult to collect predictor data for each article prior to publishing, as most aspects of the article can and should be planned out. Theoretically, predictions should be able to be made immediately, though the shortest amount of time between article publication and the acquisition of the data was 8 days. \n",
    "\n",
    "However, the model will easily become obsolete with changes in current events and human interests. One of the main reasons people read articles is because they align with their interests; when those interests change, so will the popularity of certain types of news articles. "
   ]
  },
  {
   "cell_type": "markdown",
   "id": "f6026cb7",
   "metadata": {},
   "source": [
    "## Other sections *(optional)*\n",
    "\n",
    "You are welcome to introduce additional sections or subsections, if required, to address any specific aspects of your project in detail. For example, you may briefly discuss potential future work that the research community could focus on to make further progress in the direction of your project's topic."
   ]
  },
  {
   "cell_type": "markdown",
   "id": "62a185cb",
   "metadata": {},
   "source": [
    "## Conclusions and Recommendations to stakeholder(s)\n",
    "\n",
    "What conclusions do you draw based on your model? You may draw conclusions based on prediction accuracy, or other performance metrics.\n",
    "\n",
    "How do you use those conclusions to come up with meaningful recommendations for stakeholders? The recommendations must be action-items for stakeholders that they can directly implement without any further analysis. Be as precise as possible. The stakeholder(s) are depending on you to come up with practically implementable recommendations, instead of having to think for themselves.\n",
    "\n",
    "If your recommendations are not practically implementable by stakeholders, how will they help them? Is there some additional data / analysis / domain expertise you need to do to make the recommendations implementable? \n",
    "\n",
    "Do the stakeholder(s) need to be aware about some limitations of your model? Is your model only good for one-time use, or is it possible to update your model at a certain frequency (based on recent data) to keep using it in the future? If it can be used in the future, then for how far into the future?"
   ]
  },
  {
   "cell_type": "markdown",
   "id": "0ca45613",
   "metadata": {},
   "source": [
    "Add details of each team member's contribution, other than the models contributed, in the table below."
   ]
  },
  {
   "cell_type": "markdown",
   "id": "5505da5c",
   "metadata": {},
   "source": [
    "<html>\n",
    "<style>\n",
    "table, td, th {\n",
    "  border: 1px solid black;\n",
    "}\n",
    "\n",
    "table {\n",
    "  border-collapse: collapse;\n",
    "  width: 100%;\n",
    "}\n",
    "\n",
    "th {\n",
    "  text-align: left;\n",
    "}\n",
    "    \n",
    "\n",
    "</style>\n",
    "<body>\n",
    "\n",
    "<h2>Individual contribution</h2>\n",
    "\n",
    "<table style=\"width:100%\">\n",
    "     <colgroup>\n",
    "       <col span=\"1\" style=\"width: 15%;\">\n",
    "       <col span=\"1\" style=\"width: 20%;\">\n",
    "       <col span=\"1\" style=\"width: 25%;\">\n",
    "       <col span=\"1\" style=\"width: 40%;\">\n",
    "    </colgroup>\n",
    "  <tr>\n",
    "    <th>Team member</th>\n",
    "    <th>Individual Model</th>\n",
    "    <th>Work other than individual model</th>    \n",
    "    <th>Details of work other than individual model</th>\n",
    "  </tr>\n",
    "  <tr>\n",
    "    <td>Daniel He</td>\n",
    "    <td>Adaboost, LightGBM, Catboost</td>\n",
    "    <td>EDA, ensembling, created base models</td>    \n",
    "    <td>Created base models, found issues with data set (precursor to data cleaning), ensembled every model and combination of models</td>\n",
    "  </tr>\n",
    "  <tr>\n",
    "    <td>Sarah Hsu</td>\n",
    "    <td>Random forest, gradient boosting, XGBoost</td>\n",
    "    <td>Data cleaning, feature selection, created base models</td>    \n",
    "    <td>Created base models, corrected observation values, performed feature selection with CatBoost</td>\n",
    "  </tr>\n",
    "    <tr>\n",
    "    <td>Gemily Wang</td>\n",
    "    <td>Ridge/Lasso, Bagging</td>\n",
    "    <td></td>    \n",
    "    <td></td>\n",
    "  </tr>\n",
    "    <tr>\n",
    "    <td>Anika Kaura</td>\n",
    "    <td>Decision tree</td>\n",
    "    <td></td>    \n",
    "    <td></td> \n",
    "  </tr>\n",
    "</table>"
   ]
  },
  {
   "cell_type": "markdown",
   "id": "00b1cafe",
   "metadata": {},
   "source": [
    "## References {-}"
   ]
  },
  {
   "cell_type": "markdown",
   "id": "ebdb1aad",
   "metadata": {},
   "source": [
    "K. Fernandes, P. Vinagre and P. Cortez. A Proactive Intelligent Decision\n",
    "    Support System for Predicting the Popularity of Online News. Proceedings\n",
    "    of the 17th EPIA 2015 - Portuguese Conference on Artificial Intelligence,\n",
    "    September, Coimbra, Portugal.\n"
   ]
  },
  {
   "cell_type": "markdown",
   "id": "5831751c",
   "metadata": {},
   "source": [
    "## Appendix {-}"
   ]
  },
  {
   "cell_type": "markdown",
   "id": "d13d374d",
   "metadata": {},
   "source": [
    "You may put additional stuff here as Appendix. You may refer to the Appendix in the main report to support your arguments. However, the appendix section is unlikely to be checked while grading, unless the grader deems it necessary."
   ]
  }
 ],
 "metadata": {
  "kernelspec": {
   "display_name": "Python 3 (ipykernel)",
   "language": "python",
   "name": "python3"
  },
  "language_info": {
   "codemirror_mode": {
    "name": "ipython",
    "version": 3
   },
   "file_extension": ".py",
   "mimetype": "text/x-python",
   "name": "python",
   "nbconvert_exporter": "python",
   "pygments_lexer": "ipython3",
   "version": "3.9.12"
  }
 },
 "nbformat": 4,
 "nbformat_minor": 5
}
