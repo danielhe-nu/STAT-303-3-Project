{
  "nbformat": 4,
  "nbformat_minor": 0,
  "metadata": {
    "colab": {
      "provenance": []
    },
    "kernelspec": {
      "name": "python3",
      "display_name": "Python 3"
    },
    "language_info": {
      "name": "python"
    }
  },
  "cells": [
    {
      "cell_type": "code",
      "execution_count": 2,
      "metadata": {
        "id": "8d2a27b1-4b2f-4523-99a9-c143d2282ca9"
      },
      "outputs": [],
      "source": [
        "import numpy as np\n",
        "import pandas as pd\n",
        "import matplotlib.pyplot as plt\n",
        "import seaborn as sns\n",
        "\n",
        "from sklearn.linear_model import Ridge, RidgeCV, Lasso, LassoCV\n",
        "from sklearn.preprocessing import StandardScaler \n",
        "from sklearn.metrics import r2_score\n",
        "from sklearn.impute import KNNImputer\n",
        "import time\n",
        "import itertools\n",
        "\n",
        "import statsmodels.formula.api as smf\n",
        "import warnings\n",
        "warnings.filterwarnings(\"ignore\")\n",
        "\n",
        "from sklearn.metrics import mean_squared_error\n",
        "from sklearn.model_selection import cross_val_score,train_test_split\n",
        "from sklearn.model_selection import KFold\n",
        "from sklearn.tree import DecisionTreeRegressor,DecisionTreeClassifier\n",
        "from sklearn.model_selection import GridSearchCV, ParameterGrid\n",
        "from sklearn.ensemble import BaggingRegressor,BaggingClassifier\n",
        "from sklearn.linear_model import LinearRegression,LogisticRegression\n",
        "from sklearn.neighbors import KNeighborsRegressor\n",
        "from sklearn.metrics import roc_curve, precision_recall_curve, auc, make_scorer, recall_score, \\\n",
        "accuracy_score, precision_score, confusion_matrix, mean_squared_error, r2_score\n",
        "\n",
        "#Libraries for visualizing trees\n",
        "from sklearn.tree import export_graphviz \n",
        "from six import StringIO\n",
        "from IPython.display import Image"
      ]
    },
    {
      "cell_type": "code",
      "source": [
        "OnlineNewsPopularity = pd.read_csv(\"data_dropped.csv\")"
      ],
      "metadata": {
        "id": "VPSd1DIMRYOu"
      },
      "execution_count": 3,
      "outputs": []
    },
    {
      "cell_type": "code",
      "source": [
        "X_train, X_test, y_train, y_test = train_test_split(\n",
        "    OnlineNewsPopularity.drop(['popular'], axis = 1),\n",
        "    OnlineNewsPopularity['popular'],\n",
        "    test_size = 0.2,\n",
        "    random_state = 42)"
      ],
      "metadata": {
        "id": "2xaeIX0nRhh4"
      },
      "execution_count": 4,
      "outputs": []
    },
    {
      "cell_type": "code",
      "execution_count": 5,
      "metadata": {
        "id": "8dc74f8a-a5ae-43b0-b6f0-f1d8f97875ce"
      },
      "outputs": [],
      "source": [
        "#Scaling\n",
        "scaler = StandardScaler()\n",
        "scaler.fit(X_train)\n",
        "X_train_sca = scaler.transform(X_train)\n",
        "X_test_sca = scaler.transform(X_test)"
      ]
    },
    {
      "cell_type": "code",
      "source": [],
      "metadata": {
        "id": "qjJhZcH7S5gN"
      },
      "execution_count": null,
      "outputs": []
    },
    {
      "cell_type": "markdown",
      "source": [
        "### Ridge/Lasso"
      ],
      "metadata": {
        "id": "UgSk49ItS6nC"
      }
    },
    {
      "cell_type": "code",
      "source": [
        "model_lasso_base = LogisticRegression(penalty='l1', solver='liblinear').fit(X_train_sca, y_train)\n",
        "lasso_accuracy = model_lasso_base.score(X_test_sca, y_test)\n",
        "print(\"Base lasso model accuracy: \", lasso_accuracy)"
      ],
      "metadata": {
        "colab": {
          "base_uri": "https://localhost:8080/"
        },
        "id": "5SezZdSNS63b",
        "outputId": "7f5c8e13-7b14-4054-fdb9-3069edea2cda"
      },
      "execution_count": 8,
      "outputs": [
        {
          "output_type": "stream",
          "name": "stdout",
          "text": [
            "Base lasso model accuracy:  0.6761256148316307\n"
          ]
        }
      ]
    },
    {
      "cell_type": "code",
      "source": [
        "param_grid = {'C': [0.01, 0.1, 1.0, 10.0],\n",
        "              'penalty': ['l1'],\n",
        "              'solver': ['liblinear', 'saga']\n",
        "              }\n",
        "\n",
        "model = LogisticRegression()\n",
        "\n",
        "grid_search = GridSearchCV(model, param_grid, cv=5).fit(X_train_sca, y_train)\n",
        "\n",
        "# Get the best hyperparameters and model\n",
        "best_params = grid_search.best_params_\n",
        "best_lasso_model = grid_search.best_estimator_\n",
        "\n",
        "# Evaluate the best model on the test set\n",
        "best_lasso_model.fit(X_train_sca, y_train)\n",
        "best_accuracy = best_lasso_model.score(X_test_sca, y_test)\n",
        "\n",
        "print(\"Best Hyperparameters:\", best_params)\n",
        "print(\"Best Accuracy:\", best_accuracy)"
      ],
      "metadata": {
        "colab": {
          "base_uri": "https://localhost:8080/"
        },
        "id": "7nWcypZMVLby",
        "outputId": "49aaff94-cd56-4f87-c721-a034f13f9355"
      },
      "execution_count": 25,
      "outputs": [
        {
          "output_type": "stream",
          "name": "stdout",
          "text": [
            "Best Hyperparameters: {'C': 1.0, 'penalty': 'l1', 'solver': 'saga'}\n",
            "Best Accuracy: 0.6753688989784336\n"
          ]
        }
      ]
    },
    {
      "cell_type": "code",
      "source": [
        "param_grid = {'C': [0.01, 0.1, 1.0, 10.0],\n",
        "              'penalty': ['l1'],\n",
        "              'solver': ['liblinear', 'saga'],\n",
        "              'tol': [1e-5, 1e-4, 1e-3]\n",
        "              }\n",
        "\n",
        "model = LogisticRegression()\n",
        "\n",
        "grid_search = GridSearchCV(model, param_grid, cv=5).fit(X_train_sca, y_train)\n",
        "\n",
        "# Get the best hyperparameters and model\n",
        "best_params = grid_search.best_params_\n",
        "best_lasso_model = grid_search.best_estimator_\n",
        "\n",
        "# Evaluate the best model on the test set\n",
        "best_accuracy = best_lasso_model.score(X_test_sca, y_test)\n",
        "\n",
        "print(\"Best Hyperparameters:\", best_params)\n",
        "print(\"Best Accuracy:\", best_accuracy)"
      ],
      "metadata": {
        "colab": {
          "base_uri": "https://localhost:8080/"
        },
        "id": "hbFF9kk7ol94",
        "outputId": "ba0311c0-60ea-43d6-904b-c8f4f81a4fd4"
      },
      "execution_count": 27,
      "outputs": [
        {
          "output_type": "stream",
          "name": "stdout",
          "text": [
            "Best Hyperparameters: {'C': 1.0, 'penalty': 'l1', 'solver': 'saga', 'tol': 1e-05}\n",
            "Best Accuracy: 0.6753688989784336\n"
          ]
        }
      ]
    },
    {
      "cell_type": "code",
      "source": [
        "param_grid = {'C': [0.01, 0.1, 0.5, 0.7, 0.8, 0.9, 1.0, 1.1, 1.2, 1.3, 1.4, 1.5, 2.0, 5.0, 10.0],\n",
        "              'penalty': ['l1'],\n",
        "              'solver': ['liblinear'],\n",
        "              'tol': [1e-5]\n",
        "              }\n",
        "\n",
        "model = LogisticRegression()\n",
        "\n",
        "grid_search = GridSearchCV(model, param_grid, cv=5).fit(X_train_sca, y_train)\n",
        "\n",
        "# Get the best hyperparameters and model\n",
        "best_params = grid_search.best_params_\n",
        "best_lasso_model = grid_search.best_estimator_\n",
        "\n",
        "# Evaluate the best model on the test set\n",
        "best_accuracy = best_lasso_model.score(X_test_sca, y_test)\n",
        "\n",
        "print(\"Best Hyperparameters:\", best_params)\n",
        "print(\"Best Accuracy:\", best_accuracy)"
      ],
      "metadata": {
        "colab": {
          "base_uri": "https://localhost:8080/"
        },
        "id": "VuX492PxomAj",
        "outputId": "03c33fbc-8e28-4874-cff6-d4081201d039"
      },
      "execution_count": 32,
      "outputs": [
        {
          "output_type": "stream",
          "name": "stdout",
          "text": [
            "Best Hyperparameters: {'C': 0.1, 'penalty': 'l1', 'solver': 'liblinear', 'tol': 1e-05}\n",
            "Best Accuracy: 0.6759994955227645\n"
          ]
        }
      ]
    },
    {
      "cell_type": "code",
      "source": [
        "model_test = LogisticRegression(penalty='l1', solver='liblinear', tol=1e-05).fit(X_train_sca, y_train)\n",
        "model_test.score(X_test_sca, y_test)"
      ],
      "metadata": {
        "colab": {
          "base_uri": "https://localhost:8080/"
        },
        "id": "7qCkILNeomEv",
        "outputId": "e567fa1f-1156-4f75-fdc3-622ac17ce5d1"
      },
      "execution_count": 29,
      "outputs": [
        {
          "output_type": "execute_result",
          "data": {
            "text/plain": [
              "0.6762517341404969"
            ]
          },
          "metadata": {},
          "execution_count": 29
        }
      ]
    },
    {
      "cell_type": "code",
      "source": [
        "model_ridge_base = LogisticRegression(penalty='l2').fit(X_train_sca, y_train)\n",
        "ridge_accuracy = model_ridge_base.score(X_test_sca, y_test)\n",
        "print(\"Base ridge model accuracy: \", ridge_accuracy)"
      ],
      "metadata": {
        "colab": {
          "base_uri": "https://localhost:8080/"
        },
        "id": "YOxEHBZFYp2v",
        "outputId": "6f6860cf-c1cc-4309-d075-e9c45eeeedc7"
      },
      "execution_count": 9,
      "outputs": [
        {
          "output_type": "stream",
          "name": "stdout",
          "text": [
            "Base ridge model accuracy:  0.6763778534493631\n"
          ]
        }
      ]
    },
    {
      "cell_type": "code",
      "source": [
        "param_grid = {'C': [0.01, 0.1, 1.0, 10],\n",
        "              'penalty': ['l2'],\n",
        "              'solver': ['newton-cg', 'lbfgs', 'sag', 'saga']\n",
        "              }\n",
        "\n",
        "model = LogisticRegression()\n",
        "\n",
        "grid_search = GridSearchCV(model, param_grid, cv=5).fit(X_train_sca, y_train)\n",
        "\n",
        "# Get the best hyperparameters and model\n",
        "best_params = grid_search.best_params_\n",
        "best_ridge_model = grid_search.best_estimator_\n",
        "\n",
        "# Evaluate the best model on the test set\n",
        "best_ridge_model.fit(X_train_sca, y_train)\n",
        "best_accuracy = best_ridge_model.score(X_test_sca, y_test)\n",
        "\n",
        "print(\"Best Hyperparameters:\", best_params)\n",
        "print(\"Best Accuracy:\", best_accuracy)"
      ],
      "metadata": {
        "colab": {
          "base_uri": "https://localhost:8080/"
        },
        "id": "praKv-0kZHXk",
        "outputId": "a6c35cd1-19c1-44f5-889c-03427ec55d61"
      },
      "execution_count": 20,
      "outputs": [
        {
          "output_type": "stream",
          "name": "stdout",
          "text": [
            "Best Hyperparameters: {'C': 10, 'penalty': 'l2', 'solver': 'saga'}\n",
            "Best Accuracy: 0.6754950182872997\n"
          ]
        }
      ]
    },
    {
      "cell_type": "code",
      "source": [
        "param_grid = {'C': [1.0, 10, 100, 1000],\n",
        "              'penalty': ['l2'],\n",
        "              'solver': ['newton-cg', 'lbfgs', 'sag', 'saga']\n",
        "              }\n",
        "\n",
        "model = LogisticRegression()\n",
        "\n",
        "grid_search = GridSearchCV(model, param_grid, cv=5).fit(X_train_sca, y_train)\n",
        "\n",
        "# Get the best hyperparameters and model\n",
        "best_params = grid_search.best_params_\n",
        "best_ridge_model = grid_search.best_estimator_\n",
        "\n",
        "# Evaluate the best model on the test set\n",
        "best_ridge_model.fit(X_train_sca, y_train)\n",
        "best_accuracy = best_ridge_model.score(X_test_sca, y_test)\n",
        "\n",
        "print(\"Best Hyperparameters:\", best_params)\n",
        "print(\"Best Accuracy:\", best_accuracy)"
      ],
      "metadata": {
        "colab": {
          "base_uri": "https://localhost:8080/"
        },
        "id": "GynM3QwXa7CH",
        "outputId": "f5386da5-5220-496a-b8ff-adde3ec721cb"
      },
      "execution_count": 21,
      "outputs": [
        {
          "output_type": "stream",
          "name": "stdout",
          "text": [
            "Best Hyperparameters: {'C': 10, 'penalty': 'l2', 'solver': 'saga'}\n",
            "Best Accuracy: 0.6753688989784336\n"
          ]
        }
      ]
    },
    {
      "cell_type": "code",
      "source": [
        "param_grid = {'C': [1, 4, 7, 10, 40, 70, 100],\n",
        "              'penalty': ['l2'],\n",
        "              'solver': ['newton-cg', 'lbfgs', 'sag', 'saga']\n",
        "              }\n",
        "\n",
        "model = LogisticRegression()\n",
        "\n",
        "grid_search = GridSearchCV(model, param_grid, cv=5).fit(X_train_sca, y_train)\n",
        "\n",
        "# Get the best hyperparameters and model\n",
        "best_params = grid_search.best_params_\n",
        "best_ridge_model = grid_search.best_estimator_\n",
        "\n",
        "# Evaluate the best model on the test set\n",
        "best_ridge_model.fit(X_train_sca, y_train)\n",
        "best_accuracy = best_ridge_model.score(X_test_sca, y_test)\n",
        "\n",
        "print(\"Best Hyperparameters:\", best_params)\n",
        "print(\"Best Accuracy:\", best_accuracy)"
      ],
      "metadata": {
        "colab": {
          "base_uri": "https://localhost:8080/"
        },
        "id": "SkkSOa-7bz6q",
        "outputId": "ef1a02f6-d137-4eee-e165-cf166e47c589"
      },
      "execution_count": 22,
      "outputs": [
        {
          "output_type": "stream",
          "name": "stdout",
          "text": [
            "Best Hyperparameters: {'C': 4, 'penalty': 'l2', 'solver': 'saga'}\n",
            "Best Accuracy: 0.6754950182872997\n"
          ]
        }
      ]
    },
    {
      "cell_type": "code",
      "source": [
        "param_grid = {'C': [1, 4, 7, 10, 40, 70, 100],\n",
        "              'penalty': ['l2'],\n",
        "              'solver': ['saga'],\n",
        "              'tol': [1e-5, 1e-4, 1e-3, 1e-2]\n",
        "              }\n",
        "\n",
        "model = LogisticRegression()\n",
        "\n",
        "grid_search = GridSearchCV(model, param_grid, cv=5).fit(X_train_sca, y_train)\n",
        "\n",
        "# Get the best hyperparameters and model\n",
        "best_params = grid_search.best_params_\n",
        "best_ridge_model = grid_search.best_estimator_\n",
        "\n",
        "# Evaluate the best model on the test set\n",
        "best_ridge_model.fit(X_train_sca, y_train)\n",
        "best_accuracy = best_ridge_model.score(X_test_sca, y_test)\n",
        "\n",
        "print(\"Best Hyperparameters:\", best_params)\n",
        "print(\"Best Accuracy:\", best_accuracy)"
      ],
      "metadata": {
        "colab": {
          "base_uri": "https://localhost:8080/"
        },
        "id": "HsK1P50-i8zn",
        "outputId": "43ff971b-4eb9-4d6d-b835-0e1dad79a821"
      },
      "execution_count": 24,
      "outputs": [
        {
          "output_type": "stream",
          "name": "stdout",
          "text": [
            "Best Hyperparameters: {'C': 1, 'penalty': 'l2', 'solver': 'saga', 'tol': 0.01}\n",
            "Best Accuracy: 0.672972632109976\n"
          ]
        }
      ]
    },
    {
      "cell_type": "markdown",
      "source": [
        "### Bagging"
      ],
      "metadata": {
        "id": "u4750B3yS7z0"
      }
    },
    {
      "cell_type": "code",
      "source": [
        "model_bag_base = BaggingClassifier(DecisionTreeClassifier(), random_state = 1).fit(X_train_sca, y_train)\n",
        "bag_accuracy = model_bag_base.score(X_test_sca, y_test)\n",
        "print(\"Bagging base model accuracy = \", bag_accuracy)"
      ],
      "metadata": {
        "colab": {
          "base_uri": "https://localhost:8080/"
        },
        "id": "VAnbcCTOzFLT",
        "outputId": "81535b92-3fe3-4a95-b1b1-9cc0e382bd4e"
      },
      "execution_count": 34,
      "outputs": [
        {
          "output_type": "stream",
          "name": "stdout",
          "text": [
            "Bagging base model accuracy =  0.7388069113381258\n"
          ]
        }
      ]
    },
    {
      "cell_type": "code",
      "source": [
        "params = {'n_estimators': [1000, 1500],\n",
        "          'max_samples': [0.8, 1.0],\n",
        "          'max_features': [0.8, 1.0],\n",
        "          'bootstrap': [True, False],\n",
        "          'bootstrap_features': [True, False],\n",
        "          }\n",
        "\n",
        "# Perform a grid search to find the best hyperparameters\n",
        "cv = KFold(n_splits=2,shuffle=True,random_state=1)\n",
        "grid_search = GridSearchCV(BaggingClassifier(base_estimator = DecisionTreeClassifier(random_state = 1),\n",
        "                                                       random_state=1, n_jobs=-1), \n",
        "                                      param_grid=params, cv=cv, n_jobs=-1, verbose=1)\n",
        "grid_search.fit(X_train_sca, y_train)"
      ],
      "metadata": {
        "colab": {
          "base_uri": "https://localhost:8080/",
          "height": 176
        },
        "id": "QHGUIWnSS8CK",
        "outputId": "66bb3e87-a6f9-4e5e-8db8-e732359cd5c4"
      },
      "execution_count": 43,
      "outputs": [
        {
          "output_type": "stream",
          "name": "stdout",
          "text": [
            "Fitting 2 folds for each of 32 candidates, totalling 64 fits\n"
          ]
        },
        {
          "output_type": "execute_result",
          "data": {
            "text/plain": [
              "GridSearchCV(cv=KFold(n_splits=2, random_state=1, shuffle=True),\n",
              "             estimator=BaggingClassifier(base_estimator=DecisionTreeClassifier(random_state=1),\n",
              "                                         n_jobs=-1, random_state=1),\n",
              "             n_jobs=-1,\n",
              "             param_grid={'bootstrap': [True, False],\n",
              "                         'bootstrap_features': [True, False],\n",
              "                         'max_features': [0.8, 1.0], 'max_samples': [0.8, 1.0],\n",
              "                         'n_estimators': [1000, 1500]},\n",
              "             verbose=1)"
            ],
            "text/html": [
              "<style>#sk-container-id-2 {color: black;background-color: white;}#sk-container-id-2 pre{padding: 0;}#sk-container-id-2 div.sk-toggleable {background-color: white;}#sk-container-id-2 label.sk-toggleable__label {cursor: pointer;display: block;width: 100%;margin-bottom: 0;padding: 0.3em;box-sizing: border-box;text-align: center;}#sk-container-id-2 label.sk-toggleable__label-arrow:before {content: \"▸\";float: left;margin-right: 0.25em;color: #696969;}#sk-container-id-2 label.sk-toggleable__label-arrow:hover:before {color: black;}#sk-container-id-2 div.sk-estimator:hover label.sk-toggleable__label-arrow:before {color: black;}#sk-container-id-2 div.sk-toggleable__content {max-height: 0;max-width: 0;overflow: hidden;text-align: left;background-color: #f0f8ff;}#sk-container-id-2 div.sk-toggleable__content pre {margin: 0.2em;color: black;border-radius: 0.25em;background-color: #f0f8ff;}#sk-container-id-2 input.sk-toggleable__control:checked~div.sk-toggleable__content {max-height: 200px;max-width: 100%;overflow: auto;}#sk-container-id-2 input.sk-toggleable__control:checked~label.sk-toggleable__label-arrow:before {content: \"▾\";}#sk-container-id-2 div.sk-estimator input.sk-toggleable__control:checked~label.sk-toggleable__label {background-color: #d4ebff;}#sk-container-id-2 div.sk-label input.sk-toggleable__control:checked~label.sk-toggleable__label {background-color: #d4ebff;}#sk-container-id-2 input.sk-hidden--visually {border: 0;clip: rect(1px 1px 1px 1px);clip: rect(1px, 1px, 1px, 1px);height: 1px;margin: -1px;overflow: hidden;padding: 0;position: absolute;width: 1px;}#sk-container-id-2 div.sk-estimator {font-family: monospace;background-color: #f0f8ff;border: 1px dotted black;border-radius: 0.25em;box-sizing: border-box;margin-bottom: 0.5em;}#sk-container-id-2 div.sk-estimator:hover {background-color: #d4ebff;}#sk-container-id-2 div.sk-parallel-item::after {content: \"\";width: 100%;border-bottom: 1px solid gray;flex-grow: 1;}#sk-container-id-2 div.sk-label:hover label.sk-toggleable__label {background-color: #d4ebff;}#sk-container-id-2 div.sk-serial::before {content: \"\";position: absolute;border-left: 1px solid gray;box-sizing: border-box;top: 0;bottom: 0;left: 50%;z-index: 0;}#sk-container-id-2 div.sk-serial {display: flex;flex-direction: column;align-items: center;background-color: white;padding-right: 0.2em;padding-left: 0.2em;position: relative;}#sk-container-id-2 div.sk-item {position: relative;z-index: 1;}#sk-container-id-2 div.sk-parallel {display: flex;align-items: stretch;justify-content: center;background-color: white;position: relative;}#sk-container-id-2 div.sk-item::before, #sk-container-id-2 div.sk-parallel-item::before {content: \"\";position: absolute;border-left: 1px solid gray;box-sizing: border-box;top: 0;bottom: 0;left: 50%;z-index: -1;}#sk-container-id-2 div.sk-parallel-item {display: flex;flex-direction: column;z-index: 1;position: relative;background-color: white;}#sk-container-id-2 div.sk-parallel-item:first-child::after {align-self: flex-end;width: 50%;}#sk-container-id-2 div.sk-parallel-item:last-child::after {align-self: flex-start;width: 50%;}#sk-container-id-2 div.sk-parallel-item:only-child::after {width: 0;}#sk-container-id-2 div.sk-dashed-wrapped {border: 1px dashed gray;margin: 0 0.4em 0.5em 0.4em;box-sizing: border-box;padding-bottom: 0.4em;background-color: white;}#sk-container-id-2 div.sk-label label {font-family: monospace;font-weight: bold;display: inline-block;line-height: 1.2em;}#sk-container-id-2 div.sk-label-container {text-align: center;}#sk-container-id-2 div.sk-container {/* jupyter's `normalize.less` sets `[hidden] { display: none; }` but bootstrap.min.css set `[hidden] { display: none !important; }` so we also need the `!important` here to be able to override the default hidden behavior on the sphinx rendered scikit-learn.org. See: https://github.com/scikit-learn/scikit-learn/issues/21755 */display: inline-block !important;position: relative;}#sk-container-id-2 div.sk-text-repr-fallback {display: none;}</style><div id=\"sk-container-id-2\" class=\"sk-top-container\"><div class=\"sk-text-repr-fallback\"><pre>GridSearchCV(cv=KFold(n_splits=2, random_state=1, shuffle=True),\n",
              "             estimator=BaggingClassifier(base_estimator=DecisionTreeClassifier(random_state=1),\n",
              "                                         n_jobs=-1, random_state=1),\n",
              "             n_jobs=-1,\n",
              "             param_grid={&#x27;bootstrap&#x27;: [True, False],\n",
              "                         &#x27;bootstrap_features&#x27;: [True, False],\n",
              "                         &#x27;max_features&#x27;: [0.8, 1.0], &#x27;max_samples&#x27;: [0.8, 1.0],\n",
              "                         &#x27;n_estimators&#x27;: [1000, 1500]},\n",
              "             verbose=1)</pre><b>In a Jupyter environment, please rerun this cell to show the HTML representation or trust the notebook. <br />On GitHub, the HTML representation is unable to render, please try loading this page with nbviewer.org.</b></div><div class=\"sk-container\" hidden><div class=\"sk-item sk-dashed-wrapped\"><div class=\"sk-label-container\"><div class=\"sk-label sk-toggleable\"><input class=\"sk-toggleable__control sk-hidden--visually\" id=\"sk-estimator-id-2\" type=\"checkbox\" ><label for=\"sk-estimator-id-2\" class=\"sk-toggleable__label sk-toggleable__label-arrow\">GridSearchCV</label><div class=\"sk-toggleable__content\"><pre>GridSearchCV(cv=KFold(n_splits=2, random_state=1, shuffle=True),\n",
              "             estimator=BaggingClassifier(base_estimator=DecisionTreeClassifier(random_state=1),\n",
              "                                         n_jobs=-1, random_state=1),\n",
              "             n_jobs=-1,\n",
              "             param_grid={&#x27;bootstrap&#x27;: [True, False],\n",
              "                         &#x27;bootstrap_features&#x27;: [True, False],\n",
              "                         &#x27;max_features&#x27;: [0.8, 1.0], &#x27;max_samples&#x27;: [0.8, 1.0],\n",
              "                         &#x27;n_estimators&#x27;: [1000, 1500]},\n",
              "             verbose=1)</pre></div></div></div><div class=\"sk-parallel\"><div class=\"sk-parallel-item\"><div class=\"sk-item\"><div class=\"sk-label-container\"><div class=\"sk-label sk-toggleable\"><input class=\"sk-toggleable__control sk-hidden--visually\" id=\"sk-estimator-id-3\" type=\"checkbox\" ><label for=\"sk-estimator-id-3\" class=\"sk-toggleable__label sk-toggleable__label-arrow\">estimator: BaggingClassifier</label><div class=\"sk-toggleable__content\"><pre>BaggingClassifier(base_estimator=DecisionTreeClassifier(random_state=1),\n",
              "                  n_jobs=-1, random_state=1)</pre></div></div></div><div class=\"sk-serial\"><div class=\"sk-item sk-dashed-wrapped\"><div class=\"sk-parallel\"><div class=\"sk-parallel-item\"><div class=\"sk-item\"><div class=\"sk-label-container\"><div class=\"sk-label sk-toggleable\"><input class=\"sk-toggleable__control sk-hidden--visually\" id=\"sk-estimator-id-4\" type=\"checkbox\" ><label for=\"sk-estimator-id-4\" class=\"sk-toggleable__label sk-toggleable__label-arrow\">base_estimator: DecisionTreeClassifier</label><div class=\"sk-toggleable__content\"><pre>DecisionTreeClassifier(random_state=1)</pre></div></div></div><div class=\"sk-serial\"><div class=\"sk-item\"><div class=\"sk-estimator sk-toggleable\"><input class=\"sk-toggleable__control sk-hidden--visually\" id=\"sk-estimator-id-5\" type=\"checkbox\" ><label for=\"sk-estimator-id-5\" class=\"sk-toggleable__label sk-toggleable__label-arrow\">DecisionTreeClassifier</label><div class=\"sk-toggleable__content\"><pre>DecisionTreeClassifier(random_state=1)</pre></div></div></div></div></div></div></div></div></div></div></div></div></div></div></div>"
            ]
          },
          "metadata": {},
          "execution_count": 43
        }
      ]
    },
    {
      "cell_type": "code",
      "source": [
        "params = {'n_estimators': [100, 500, 1000],\n",
        "          'max_samples': [0.1, 0.5, 1.0],\n",
        "          'max_features': [0.1, 0.5, 1.0],\n",
        "          'bootstrap': [True, False],\n",
        "          'bootstrap_features': [True, False],\n",
        "          }\n",
        "\n",
        "# Get the best model\n",
        "print(\"best params: \", grid_search.best_params_)\n",
        "model_bag = grid_search.best_estimator_\n",
        "\n",
        "# Evaluate the model on the test set\n",
        "model_bag.fit(X_train_sca, y_train)\n",
        "y_pred = model_bag.predict(X_test_sca)\n",
        "\n",
        "accuracy = accuracy_score(y_test, y_pred)\n",
        "print(\"Accuracy = \", accuracy)"
      ],
      "metadata": {
        "colab": {
          "base_uri": "https://localhost:8080/"
        },
        "id": "vOaZxitZS8FG",
        "outputId": "28a4e6f4-08f9-4ffb-9d49-6dfa11ed4b5e"
      },
      "execution_count": 41,
      "outputs": [
        {
          "output_type": "stream",
          "name": "stdout",
          "text": [
            "best params:  {'bootstrap': True, 'bootstrap_features': True, 'max_features': 1.0, 'max_samples': 1.0, 'n_estimators': 1000}\n",
            "Accuracy =  0.7693277840837432\n"
          ]
        }
      ]
    },
    {
      "cell_type": "code",
      "source": [
        "params = {'n_estimators': [1000, 1500],\n",
        "          'max_samples': [0.8, 1.0],\n",
        "          'max_features': [0.8, 1.0],\n",
        "          'bootstrap': [True, False],\n",
        "          'bootstrap_features': [True, False],\n",
        "          }\n",
        "\n",
        "# Get the best model\n",
        "print(\"best params: \", grid_search.best_params_)\n",
        "model_bag = grid_search.best_estimator_\n",
        "\n",
        "# Evaluate the model on the test set\n",
        "model_bag.fit(X_train_sca, y_train)\n",
        "y_pred = model_bag.predict(X_test_sca)\n",
        "\n",
        "accuracy = accuracy_score(y_test, y_pred)\n",
        "print(\"Accuracy = \", accuracy)"
      ],
      "metadata": {
        "colab": {
          "base_uri": "https://localhost:8080/"
        },
        "id": "iqod3oVFB34y",
        "outputId": "7147525c-5196-49d9-c853-e42fe5f8e95e"
      },
      "execution_count": 44,
      "outputs": [
        {
          "output_type": "stream",
          "name": "stdout",
          "text": [
            "best params:  {'bootstrap': False, 'bootstrap_features': True, 'max_features': 0.8, 'max_samples': 0.8, 'n_estimators': 1500}\n",
            "Accuracy =  0.767814352377349\n"
          ]
        }
      ]
    },
    {
      "cell_type": "code",
      "source": [],
      "metadata": {
        "id": "kPbDN7VAC-cs"
      },
      "execution_count": null,
      "outputs": []
    }
  ]
}